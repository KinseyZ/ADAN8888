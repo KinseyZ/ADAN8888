{
 "cells": [
  {
   "cell_type": "code",
   "execution_count": 1,
   "id": "542ee232-e366-45c9-98e1-f22ca54d20ab",
   "metadata": {},
   "outputs": [],
   "source": [
    "import sklearn\n",
    "import pandas as pd\n",
    "import numpy as np\n",
    "import matplotlib.pyplot as plt\n",
    "from sklearn.metrics import accuracy_score, precision_score, recall_score, f1_score, roc_auc_score\n",
    "%matplotlib inline"
   ]
  },
  {
   "cell_type": "code",
   "execution_count": 2,
   "id": "5b226878-15df-4821-934f-954756eab658",
   "metadata": {},
   "outputs": [],
   "source": [
    "bank = pd.read_csv('~/ADAN8888/data/raw/bank_raw.csv')"
   ]
  },
  {
   "cell_type": "code",
   "execution_count": 3,
   "id": "7da3631d-4c5b-4022-82df-5a1cc4c45e55",
   "metadata": {},
   "outputs": [],
   "source": [
    "# Data Exploration "
   ]
  },
  {
   "cell_type": "code",
   "execution_count": 4,
   "id": "834b1f58-1f44-4c36-b7f5-237d79da2534",
   "metadata": {},
   "outputs": [
    {
     "data": {
      "text/html": [
       "<div>\n",
       "<style scoped>\n",
       "    .dataframe tbody tr th:only-of-type {\n",
       "        vertical-align: middle;\n",
       "    }\n",
       "\n",
       "    .dataframe tbody tr th {\n",
       "        vertical-align: top;\n",
       "    }\n",
       "\n",
       "    .dataframe thead th {\n",
       "        text-align: right;\n",
       "    }\n",
       "</style>\n",
       "<table border=\"1\" class=\"dataframe\">\n",
       "  <thead>\n",
       "    <tr style=\"text-align: right;\">\n",
       "      <th></th>\n",
       "      <th>RowNumber</th>\n",
       "      <th>CustomerId</th>\n",
       "      <th>Surname</th>\n",
       "      <th>CreditScore</th>\n",
       "      <th>Geography</th>\n",
       "      <th>Gender</th>\n",
       "      <th>Age</th>\n",
       "      <th>Tenure</th>\n",
       "      <th>Balance</th>\n",
       "      <th>NumOfProducts</th>\n",
       "      <th>HasCrCard</th>\n",
       "      <th>IsActiveMember</th>\n",
       "      <th>EstimatedSalary</th>\n",
       "      <th>Exited</th>\n",
       "    </tr>\n",
       "  </thead>\n",
       "  <tbody>\n",
       "    <tr>\n",
       "      <th>0</th>\n",
       "      <td>1</td>\n",
       "      <td>15634602</td>\n",
       "      <td>Hargrave</td>\n",
       "      <td>619</td>\n",
       "      <td>France</td>\n",
       "      <td>Female</td>\n",
       "      <td>42</td>\n",
       "      <td>2</td>\n",
       "      <td>0.00</td>\n",
       "      <td>1</td>\n",
       "      <td>1</td>\n",
       "      <td>1</td>\n",
       "      <td>101348.88</td>\n",
       "      <td>1</td>\n",
       "    </tr>\n",
       "    <tr>\n",
       "      <th>1</th>\n",
       "      <td>2</td>\n",
       "      <td>15647311</td>\n",
       "      <td>Hill</td>\n",
       "      <td>608</td>\n",
       "      <td>Spain</td>\n",
       "      <td>Female</td>\n",
       "      <td>41</td>\n",
       "      <td>1</td>\n",
       "      <td>83807.86</td>\n",
       "      <td>1</td>\n",
       "      <td>0</td>\n",
       "      <td>1</td>\n",
       "      <td>112542.58</td>\n",
       "      <td>0</td>\n",
       "    </tr>\n",
       "    <tr>\n",
       "      <th>2</th>\n",
       "      <td>3</td>\n",
       "      <td>15619304</td>\n",
       "      <td>Onio</td>\n",
       "      <td>502</td>\n",
       "      <td>France</td>\n",
       "      <td>Female</td>\n",
       "      <td>42</td>\n",
       "      <td>8</td>\n",
       "      <td>159660.80</td>\n",
       "      <td>3</td>\n",
       "      <td>1</td>\n",
       "      <td>0</td>\n",
       "      <td>113931.57</td>\n",
       "      <td>1</td>\n",
       "    </tr>\n",
       "    <tr>\n",
       "      <th>3</th>\n",
       "      <td>4</td>\n",
       "      <td>15701354</td>\n",
       "      <td>Boni</td>\n",
       "      <td>699</td>\n",
       "      <td>France</td>\n",
       "      <td>Female</td>\n",
       "      <td>39</td>\n",
       "      <td>1</td>\n",
       "      <td>0.00</td>\n",
       "      <td>2</td>\n",
       "      <td>0</td>\n",
       "      <td>0</td>\n",
       "      <td>93826.63</td>\n",
       "      <td>0</td>\n",
       "    </tr>\n",
       "    <tr>\n",
       "      <th>4</th>\n",
       "      <td>5</td>\n",
       "      <td>15737888</td>\n",
       "      <td>Mitchell</td>\n",
       "      <td>850</td>\n",
       "      <td>Spain</td>\n",
       "      <td>Female</td>\n",
       "      <td>43</td>\n",
       "      <td>2</td>\n",
       "      <td>125510.82</td>\n",
       "      <td>1</td>\n",
       "      <td>1</td>\n",
       "      <td>1</td>\n",
       "      <td>79084.10</td>\n",
       "      <td>0</td>\n",
       "    </tr>\n",
       "  </tbody>\n",
       "</table>\n",
       "</div>"
      ],
      "text/plain": [
       "   RowNumber  CustomerId   Surname  CreditScore Geography  Gender  Age  \\\n",
       "0          1    15634602  Hargrave          619    France  Female   42   \n",
       "1          2    15647311      Hill          608     Spain  Female   41   \n",
       "2          3    15619304      Onio          502    France  Female   42   \n",
       "3          4    15701354      Boni          699    France  Female   39   \n",
       "4          5    15737888  Mitchell          850     Spain  Female   43   \n",
       "\n",
       "   Tenure    Balance  NumOfProducts  HasCrCard  IsActiveMember  \\\n",
       "0       2       0.00              1          1               1   \n",
       "1       1   83807.86              1          0               1   \n",
       "2       8  159660.80              3          1               0   \n",
       "3       1       0.00              2          0               0   \n",
       "4       2  125510.82              1          1               1   \n",
       "\n",
       "   EstimatedSalary  Exited  \n",
       "0        101348.88       1  \n",
       "1        112542.58       0  \n",
       "2        113931.57       1  \n",
       "3         93826.63       0  \n",
       "4         79084.10       0  "
      ]
     },
     "execution_count": 4,
     "metadata": {},
     "output_type": "execute_result"
    }
   ],
   "source": [
    "bank.head()"
   ]
  },
  {
   "cell_type": "code",
   "execution_count": 5,
   "id": "d7576f52-aed4-49aa-9a57-c92be64e9775",
   "metadata": {},
   "outputs": [
    {
     "data": {
      "text/plain": [
       "(10000, 14)"
      ]
     },
     "execution_count": 5,
     "metadata": {},
     "output_type": "execute_result"
    }
   ],
   "source": [
    "bank.shape"
   ]
  },
  {
   "cell_type": "code",
   "execution_count": 6,
   "id": "fc483d35-7438-4030-8f68-1673aeed30e0",
   "metadata": {},
   "outputs": [
    {
     "name": "stdout",
     "output_type": "stream",
     "text": [
      "<class 'pandas.core.frame.DataFrame'>\n",
      "RangeIndex: 10000 entries, 0 to 9999\n",
      "Data columns (total 14 columns):\n",
      " #   Column           Non-Null Count  Dtype  \n",
      "---  ------           --------------  -----  \n",
      " 0   RowNumber        10000 non-null  int64  \n",
      " 1   CustomerId       10000 non-null  int64  \n",
      " 2   Surname          10000 non-null  object \n",
      " 3   CreditScore      10000 non-null  int64  \n",
      " 4   Geography        10000 non-null  object \n",
      " 5   Gender           10000 non-null  object \n",
      " 6   Age              10000 non-null  int64  \n",
      " 7   Tenure           10000 non-null  int64  \n",
      " 8   Balance          10000 non-null  float64\n",
      " 9   NumOfProducts    10000 non-null  int64  \n",
      " 10  HasCrCard        10000 non-null  int64  \n",
      " 11  IsActiveMember   10000 non-null  int64  \n",
      " 12  EstimatedSalary  10000 non-null  float64\n",
      " 13  Exited           10000 non-null  int64  \n",
      "dtypes: float64(2), int64(9), object(3)\n",
      "memory usage: 1.1+ MB\n"
     ]
    }
   ],
   "source": [
    "# check data info\n",
    "bank.info()"
   ]
  },
  {
   "cell_type": "code",
   "execution_count": 7,
   "id": "6d93f5cf-0e3d-4065-a2a6-e37e633a6933",
   "metadata": {},
   "outputs": [
    {
     "data": {
      "text/plain": [
       "RowNumber          10000\n",
       "CustomerId         10000\n",
       "Surname             2932\n",
       "CreditScore          460\n",
       "Geography              3\n",
       "Gender                 2\n",
       "Age                   70\n",
       "Tenure                11\n",
       "Balance             6382\n",
       "NumOfProducts          4\n",
       "HasCrCard              2\n",
       "IsActiveMember         2\n",
       "EstimatedSalary     9999\n",
       "Exited                 2\n",
       "dtype: int64"
      ]
     },
     "execution_count": 7,
     "metadata": {},
     "output_type": "execute_result"
    }
   ],
   "source": [
    "# check the unique values for each column\n",
    "bank.nunique()"
   ]
  },
  {
   "cell_type": "code",
   "execution_count": 8,
   "id": "03123694-fe0e-4720-94b4-33a9753fd1ef",
   "metadata": {},
   "outputs": [
    {
     "data": {
      "text/plain": [
       "RowNumber          0\n",
       "CustomerId         0\n",
       "Surname            0\n",
       "CreditScore        0\n",
       "Geography          0\n",
       "Gender             0\n",
       "Age                0\n",
       "Tenure             0\n",
       "Balance            0\n",
       "NumOfProducts      0\n",
       "HasCrCard          0\n",
       "IsActiveMember     0\n",
       "EstimatedSalary    0\n",
       "Exited             0\n",
       "dtype: int64"
      ]
     },
     "execution_count": 8,
     "metadata": {},
     "output_type": "execute_result"
    }
   ],
   "source": [
    "# check missing values\n",
    "bank.isnull().sum()"
   ]
  },
  {
   "cell_type": "code",
   "execution_count": 9,
   "id": "a17f5c83-a5d7-451d-be4d-23c20fa2ab8d",
   "metadata": {},
   "outputs": [
    {
     "data": {
      "text/html": [
       "<div>\n",
       "<style scoped>\n",
       "    .dataframe tbody tr th:only-of-type {\n",
       "        vertical-align: middle;\n",
       "    }\n",
       "\n",
       "    .dataframe tbody tr th {\n",
       "        vertical-align: top;\n",
       "    }\n",
       "\n",
       "    .dataframe thead th {\n",
       "        text-align: right;\n",
       "    }\n",
       "</style>\n",
       "<table border=\"1\" class=\"dataframe\">\n",
       "  <thead>\n",
       "    <tr style=\"text-align: right;\">\n",
       "      <th></th>\n",
       "      <th>CreditScore</th>\n",
       "      <th>Age</th>\n",
       "      <th>Tenure</th>\n",
       "      <th>NumOfProducts</th>\n",
       "      <th>Balance</th>\n",
       "      <th>EstimatedSalary</th>\n",
       "    </tr>\n",
       "  </thead>\n",
       "  <tbody>\n",
       "    <tr>\n",
       "      <th>count</th>\n",
       "      <td>10000.000000</td>\n",
       "      <td>10000.000000</td>\n",
       "      <td>10000.000000</td>\n",
       "      <td>10000.000000</td>\n",
       "      <td>10000.000000</td>\n",
       "      <td>10000.000000</td>\n",
       "    </tr>\n",
       "    <tr>\n",
       "      <th>mean</th>\n",
       "      <td>650.528800</td>\n",
       "      <td>38.921800</td>\n",
       "      <td>5.012800</td>\n",
       "      <td>1.530200</td>\n",
       "      <td>76485.889288</td>\n",
       "      <td>100090.239881</td>\n",
       "    </tr>\n",
       "    <tr>\n",
       "      <th>std</th>\n",
       "      <td>96.653299</td>\n",
       "      <td>10.487806</td>\n",
       "      <td>2.892174</td>\n",
       "      <td>0.581654</td>\n",
       "      <td>62397.405202</td>\n",
       "      <td>57510.492818</td>\n",
       "    </tr>\n",
       "    <tr>\n",
       "      <th>min</th>\n",
       "      <td>350.000000</td>\n",
       "      <td>18.000000</td>\n",
       "      <td>0.000000</td>\n",
       "      <td>1.000000</td>\n",
       "      <td>0.000000</td>\n",
       "      <td>11.580000</td>\n",
       "    </tr>\n",
       "    <tr>\n",
       "      <th>25%</th>\n",
       "      <td>584.000000</td>\n",
       "      <td>32.000000</td>\n",
       "      <td>3.000000</td>\n",
       "      <td>1.000000</td>\n",
       "      <td>0.000000</td>\n",
       "      <td>51002.110000</td>\n",
       "    </tr>\n",
       "    <tr>\n",
       "      <th>50%</th>\n",
       "      <td>652.000000</td>\n",
       "      <td>37.000000</td>\n",
       "      <td>5.000000</td>\n",
       "      <td>1.000000</td>\n",
       "      <td>97198.540000</td>\n",
       "      <td>100193.915000</td>\n",
       "    </tr>\n",
       "    <tr>\n",
       "      <th>75%</th>\n",
       "      <td>718.000000</td>\n",
       "      <td>44.000000</td>\n",
       "      <td>7.000000</td>\n",
       "      <td>2.000000</td>\n",
       "      <td>127644.240000</td>\n",
       "      <td>149388.247500</td>\n",
       "    </tr>\n",
       "    <tr>\n",
       "      <th>max</th>\n",
       "      <td>850.000000</td>\n",
       "      <td>92.000000</td>\n",
       "      <td>10.000000</td>\n",
       "      <td>4.000000</td>\n",
       "      <td>250898.090000</td>\n",
       "      <td>199992.480000</td>\n",
       "    </tr>\n",
       "  </tbody>\n",
       "</table>\n",
       "</div>"
      ],
      "text/plain": [
       "        CreditScore           Age        Tenure  NumOfProducts        Balance  \\\n",
       "count  10000.000000  10000.000000  10000.000000   10000.000000   10000.000000   \n",
       "mean     650.528800     38.921800      5.012800       1.530200   76485.889288   \n",
       "std       96.653299     10.487806      2.892174       0.581654   62397.405202   \n",
       "min      350.000000     18.000000      0.000000       1.000000       0.000000   \n",
       "25%      584.000000     32.000000      3.000000       1.000000       0.000000   \n",
       "50%      652.000000     37.000000      5.000000       1.000000   97198.540000   \n",
       "75%      718.000000     44.000000      7.000000       2.000000  127644.240000   \n",
       "max      850.000000     92.000000     10.000000       4.000000  250898.090000   \n",
       "\n",
       "       EstimatedSalary  \n",
       "count     10000.000000  \n",
       "mean     100090.239881  \n",
       "std       57510.492818  \n",
       "min          11.580000  \n",
       "25%       51002.110000  \n",
       "50%      100193.915000  \n",
       "75%      149388.247500  \n",
       "max      199992.480000  "
      ]
     },
     "execution_count": 9,
     "metadata": {},
     "output_type": "execute_result"
    }
   ],
   "source": [
    "# understand Numerical feature\n",
    "# discrete/continuous\n",
    "# 'CreditScore', 'Age', 'Tenure', 'NumberOfProducts'\n",
    "# 'Balance', 'EstimatedSalary'\n",
    "bank[['CreditScore', 'Age', 'Tenure', 'NumOfProducts','Balance', 'EstimatedSalary']].describe()"
   ]
  },
  {
   "cell_type": "code",
   "execution_count": 10,
   "id": "d9ec40bc-1331-4964-bb40-593384a250a1",
   "metadata": {},
   "outputs": [],
   "source": [
    "import matplotlib.pyplot as plt\n",
    "import seaborn as sns"
   ]
  },
  {
   "cell_type": "code",
   "execution_count": 11,
   "id": "79d3f2b4-aedb-46f9-acdd-ba819c1adc72",
   "metadata": {},
   "outputs": [
    {
     "data": {
      "text/plain": [
       "<AxesSubplot: xlabel='Exited', ylabel='EstimatedSalary'>"
      ]
     },
     "execution_count": 11,
     "metadata": {},
     "output_type": "execute_result"
    },
    {
     "data": {
      "image/png": "[encoded data removed]",
      "text/plain": [
       "<Figure size 2000x1000 with 6 Axes>"
      ]
     },
     "metadata": {},
     "output_type": "display_data"
    }
   ],
   "source": [
    "# boxplot for numerical feature\n",
    "_,axss = plt.subplots(2,3, figsize=[20,10])\n",
    "sns.boxplot(x='Exited', y ='CreditScore', data=bank, ax=axss[0][0])\n",
    "sns.boxplot(x='Exited', y ='Age', data=bank, ax=axss[0][1])\n",
    "sns.boxplot(x='Exited', y ='Tenure', data=bank, ax=axss[0][2])\n",
    "sns.boxplot(x='Exited', y ='NumOfProducts', data=bank, ax=axss[1][0])\n",
    "sns.boxplot(x='Exited', y ='Balance', data=bank, ax=axss[1][1])\n",
    "sns.boxplot(x='Exited', y ='EstimatedSalary', data=bank, ax=axss[1][2])"
   ]
  },
  {
   "cell_type": "code",
   "execution_count": 12,
   "id": "610b3e76-97d5-4daf-9f0d-e4f252a823a8",
   "metadata": {},
   "outputs": [
    {
     "data": {
      "text/plain": [
       "<AxesSubplot: xlabel='Exited', ylabel='count'>"
      ]
     },
     "execution_count": 12,
     "metadata": {},
     "output_type": "execute_result"
    },
    {
     "data": {
      "image/png": "[encoded data removed]",
      "text/plain": [
       "<Figure size 2000x1000 with 4 Axes>"
      ]
     },
     "metadata": {},
     "output_type": "display_data"
    }
   ],
   "source": [
    "# understand categorical feature\n",
    "# 'Geography', 'Gender'\n",
    "# 'HasCrCard', 'IsActiveMember'\n",
    "_,axss = plt.subplots(2,2, figsize=[20,10])\n",
    "sns.countplot(x='Exited', hue='Geography', data=bank, ax=axss[0][0])\n",
    "sns.countplot(x='Exited', hue='Gender', data=bank, ax=axss[0][1])\n",
    "sns.countplot(x='Exited', hue='HasCrCard', data=bank, ax=axss[1][0])\n",
    "sns.countplot(x='Exited', hue='IsActiveMember', data=bank, ax=axss[1][1])"
   ]
  },
  {
   "cell_type": "code",
   "execution_count": 13,
   "id": "c0546979-3baa-4db9-b0ac-ff832f65f541",
   "metadata": {},
   "outputs": [
    {
     "data": {
      "image/png": "[encoded data removed]",
      "text/plain": [
       "<Figure size 1000x800 with 1 Axes>"
      ]
     },
     "metadata": {},
     "output_type": "display_data"
    }
   ],
   "source": [
    "labels = 'Exited', 'Retained'\n",
    "sizes = [bank.Exited[bank['Exited']==1].count(), bank.Exited[bank['Exited']==0].count()]\n",
    "explode = (0, 0.1)\n",
    "fig1, ax1 = plt.subplots(figsize=(10, 8))\n",
    "ax1.pie(sizes, explode=explode, labels=labels, autopct='%1.1f%%',\n",
    "        shadow=True, startangle=90)\n",
    "ax1.axis('equal')\n",
    "plt.title(\"Proportion of customer churned and retained\", size = 20)\n",
    "plt.show()"
   ]
  },
  {
   "cell_type": "markdown",
   "id": "fa948f97-3fad-48d3-bad2-007f80db86ab",
   "metadata": {},
   "source": [
    "WEEK 5"
   ]
  },
  {
   "cell_type": "code",
   "execution_count": 14,
   "id": "7c27b775-8384-4c7f-8b49-44a4519b7112",
   "metadata": {},
   "outputs": [
    {
     "data": {
      "image/png": "[encoded data removed]",
      "text/plain": [
       "<Figure size 640x480 with 1 Axes>"
      ]
     },
     "metadata": {},
     "output_type": "display_data"
    }
   ],
   "source": [
    "plt.boxplot(bank['Age'])\n",
    "plt.title(\"Distribution of customers' age\")\n",
    "plt.ylabel('Age')\n",
    "plt.show()"
   ]
  },
  {
   "cell_type": "code",
   "execution_count": 15,
   "id": "1fbef1e8-c7a7-42a1-b89e-cd84303b58d2",
   "metadata": {},
   "outputs": [],
   "source": [
    "# Feature Preprocessing\n",
    "# Drop useless feature\n",
    "bank1 = bank.drop(['RowNumber','CustomerId','Surname'], axis=1)"
   ]
  },
  {
   "cell_type": "code",
   "execution_count": 16,
   "id": "560cd3c7-17c0-4e00-8645-e8a8d730c996",
   "metadata": {},
   "outputs": [
    {
     "data": {
      "text/html": [
       "<div>\n",
       "<style scoped>\n",
       "    .dataframe tbody tr th:only-of-type {\n",
       "        vertical-align: middle;\n",
       "    }\n",
       "\n",
       "    .dataframe tbody tr th {\n",
       "        vertical-align: top;\n",
       "    }\n",
       "\n",
       "    .dataframe thead th {\n",
       "        text-align: right;\n",
       "    }\n",
       "</style>\n",
       "<table border=\"1\" class=\"dataframe\">\n",
       "  <thead>\n",
       "    <tr style=\"text-align: right;\">\n",
       "      <th></th>\n",
       "      <th>CreditScore</th>\n",
       "      <th>Geography</th>\n",
       "      <th>Gender</th>\n",
       "      <th>Age</th>\n",
       "      <th>Tenure</th>\n",
       "      <th>Balance</th>\n",
       "      <th>NumOfProducts</th>\n",
       "      <th>HasCrCard</th>\n",
       "      <th>IsActiveMember</th>\n",
       "      <th>EstimatedSalary</th>\n",
       "      <th>Exited</th>\n",
       "    </tr>\n",
       "  </thead>\n",
       "  <tbody>\n",
       "    <tr>\n",
       "      <th>0</th>\n",
       "      <td>619</td>\n",
       "      <td>France</td>\n",
       "      <td>Female</td>\n",
       "      <td>42</td>\n",
       "      <td>2</td>\n",
       "      <td>0.00</td>\n",
       "      <td>1</td>\n",
       "      <td>1</td>\n",
       "      <td>1</td>\n",
       "      <td>101348.88</td>\n",
       "      <td>1</td>\n",
       "    </tr>\n",
       "    <tr>\n",
       "      <th>1</th>\n",
       "      <td>608</td>\n",
       "      <td>Spain</td>\n",
       "      <td>Female</td>\n",
       "      <td>41</td>\n",
       "      <td>1</td>\n",
       "      <td>83807.86</td>\n",
       "      <td>1</td>\n",
       "      <td>0</td>\n",
       "      <td>1</td>\n",
       "      <td>112542.58</td>\n",
       "      <td>0</td>\n",
       "    </tr>\n",
       "    <tr>\n",
       "      <th>2</th>\n",
       "      <td>502</td>\n",
       "      <td>France</td>\n",
       "      <td>Female</td>\n",
       "      <td>42</td>\n",
       "      <td>8</td>\n",
       "      <td>159660.80</td>\n",
       "      <td>3</td>\n",
       "      <td>1</td>\n",
       "      <td>0</td>\n",
       "      <td>113931.57</td>\n",
       "      <td>1</td>\n",
       "    </tr>\n",
       "    <tr>\n",
       "      <th>3</th>\n",
       "      <td>699</td>\n",
       "      <td>France</td>\n",
       "      <td>Female</td>\n",
       "      <td>39</td>\n",
       "      <td>1</td>\n",
       "      <td>0.00</td>\n",
       "      <td>2</td>\n",
       "      <td>0</td>\n",
       "      <td>0</td>\n",
       "      <td>93826.63</td>\n",
       "      <td>0</td>\n",
       "    </tr>\n",
       "    <tr>\n",
       "      <th>4</th>\n",
       "      <td>850</td>\n",
       "      <td>Spain</td>\n",
       "      <td>Female</td>\n",
       "      <td>43</td>\n",
       "      <td>2</td>\n",
       "      <td>125510.82</td>\n",
       "      <td>1</td>\n",
       "      <td>1</td>\n",
       "      <td>1</td>\n",
       "      <td>79084.10</td>\n",
       "      <td>0</td>\n",
       "    </tr>\n",
       "  </tbody>\n",
       "</table>\n",
       "</div>"
      ],
      "text/plain": [
       "   CreditScore Geography  Gender  Age  Tenure    Balance  NumOfProducts  \\\n",
       "0          619    France  Female   42       2       0.00              1   \n",
       "1          608     Spain  Female   41       1   83807.86              1   \n",
       "2          502    France  Female   42       8  159660.80              3   \n",
       "3          699    France  Female   39       1       0.00              2   \n",
       "4          850     Spain  Female   43       2  125510.82              1   \n",
       "\n",
       "   HasCrCard  IsActiveMember  EstimatedSalary  Exited  \n",
       "0          1               1        101348.88       1  \n",
       "1          0               1        112542.58       0  \n",
       "2          1               0        113931.57       1  \n",
       "3          0               0         93826.63       0  \n",
       "4          1               1         79084.10       0  "
      ]
     },
     "execution_count": 16,
     "metadata": {},
     "output_type": "execute_result"
    }
   ],
   "source": [
    "bank1.head()"
   ]
  },
  {
   "cell_type": "code",
   "execution_count": 17,
   "id": "ff544031-9f5c-4e3c-b36c-797521f9a169",
   "metadata": {},
   "outputs": [
    {
     "data": {
      "text/plain": [
       "CreditScore          int64\n",
       "Geography           object\n",
       "Gender              object\n",
       "Age                  int64\n",
       "Tenure               int64\n",
       "Balance            float64\n",
       "NumOfProducts        int64\n",
       "HasCrCard            int64\n",
       "IsActiveMember       int64\n",
       "EstimatedSalary    float64\n",
       "Exited               int64\n",
       "dtype: object"
      ]
     },
     "execution_count": 17,
     "metadata": {},
     "output_type": "execute_result"
    }
   ],
   "source": [
    "bank1.dtypes"
   ]
  },
  {
   "cell_type": "code",
   "execution_count": 18,
   "id": "6a3311b6-b5bd-4ab6-8b17-cec7c9f36e99",
   "metadata": {},
   "outputs": [],
   "source": [
    "# Get target variable\n",
    "y = bank1['Exited']"
   ]
  },
  {
   "cell_type": "code",
   "execution_count": 19,
   "id": "c02bcb9e-fb70-4143-8fb0-5036507094e7",
   "metadata": {},
   "outputs": [],
   "source": [
    "# convert categorical varaiables to numerical variables\n",
    "from sklearn.preprocessing import LabelEncoder\n",
    "lb = LabelEncoder()\n",
    "bank1['Gender']= lb.fit_transform(bank1['Gender'])"
   ]
  },
  {
   "cell_type": "code",
   "execution_count": 20,
   "id": "04c5c335-bbca-40c8-bec2-628f8864ad28",
   "metadata": {},
   "outputs": [],
   "source": [
    "bank1 = pd.get_dummies(bank1, columns = ['Geography'])"
   ]
  },
  {
   "cell_type": "code",
   "execution_count": 21,
   "id": "0790181b-ffa4-4fa7-b1dc-be1aee5972c4",
   "metadata": {},
   "outputs": [],
   "source": [
    "X = bank1\n",
    "X = bank1.drop(['Exited'], axis = 1)"
   ]
  },
  {
   "cell_type": "code",
   "execution_count": 22,
   "id": "4f0e5495-fc4f-4647-a431-85496f0ee0f9",
   "metadata": {},
   "outputs": [
    {
     "data": {
      "text/html": [
       "<div>\n",
       "<style scoped>\n",
       "    .dataframe tbody tr th:only-of-type {\n",
       "        vertical-align: middle;\n",
       "    }\n",
       "\n",
       "    .dataframe tbody tr th {\n",
       "        vertical-align: top;\n",
       "    }\n",
       "\n",
       "    .dataframe thead th {\n",
       "        text-align: right;\n",
       "    }\n",
       "</style>\n",
       "<table border=\"1\" class=\"dataframe\">\n",
       "  <thead>\n",
       "    <tr style=\"text-align: right;\">\n",
       "      <th></th>\n",
       "      <th>CreditScore</th>\n",
       "      <th>Gender</th>\n",
       "      <th>Age</th>\n",
       "      <th>Tenure</th>\n",
       "      <th>Balance</th>\n",
       "      <th>NumOfProducts</th>\n",
       "      <th>HasCrCard</th>\n",
       "      <th>IsActiveMember</th>\n",
       "      <th>EstimatedSalary</th>\n",
       "      <th>Geography_France</th>\n",
       "      <th>Geography_Germany</th>\n",
       "      <th>Geography_Spain</th>\n",
       "    </tr>\n",
       "  </thead>\n",
       "  <tbody>\n",
       "    <tr>\n",
       "      <th>0</th>\n",
       "      <td>619</td>\n",
       "      <td>0</td>\n",
       "      <td>42</td>\n",
       "      <td>2</td>\n",
       "      <td>0.00</td>\n",
       "      <td>1</td>\n",
       "      <td>1</td>\n",
       "      <td>1</td>\n",
       "      <td>101348.88</td>\n",
       "      <td>1</td>\n",
       "      <td>0</td>\n",
       "      <td>0</td>\n",
       "    </tr>\n",
       "    <tr>\n",
       "      <th>1</th>\n",
       "      <td>608</td>\n",
       "      <td>0</td>\n",
       "      <td>41</td>\n",
       "      <td>1</td>\n",
       "      <td>83807.86</td>\n",
       "      <td>1</td>\n",
       "      <td>0</td>\n",
       "      <td>1</td>\n",
       "      <td>112542.58</td>\n",
       "      <td>0</td>\n",
       "      <td>0</td>\n",
       "      <td>1</td>\n",
       "    </tr>\n",
       "    <tr>\n",
       "      <th>2</th>\n",
       "      <td>502</td>\n",
       "      <td>0</td>\n",
       "      <td>42</td>\n",
       "      <td>8</td>\n",
       "      <td>159660.80</td>\n",
       "      <td>3</td>\n",
       "      <td>1</td>\n",
       "      <td>0</td>\n",
       "      <td>113931.57</td>\n",
       "      <td>1</td>\n",
       "      <td>0</td>\n",
       "      <td>0</td>\n",
       "    </tr>\n",
       "  </tbody>\n",
       "</table>\n",
       "</div>"
      ],
      "text/plain": [
       "   CreditScore  Gender  Age  Tenure    Balance  NumOfProducts  HasCrCard  \\\n",
       "0          619       0   42       2       0.00              1          1   \n",
       "1          608       0   41       1   83807.86              1          0   \n",
       "2          502       0   42       8  159660.80              3          1   \n",
       "\n",
       "   IsActiveMember  EstimatedSalary  Geography_France  Geography_Germany  \\\n",
       "0               1        101348.88                 1                  0   \n",
       "1               1        112542.58                 0                  0   \n",
       "2               0        113931.57                 1                  0   \n",
       "\n",
       "   Geography_Spain  \n",
       "0                0  \n",
       "1                1  \n",
       "2                0  "
      ]
     },
     "execution_count": 22,
     "metadata": {},
     "output_type": "execute_result"
    }
   ],
   "source": [
    "X.head(3)"
   ]
  },
  {
   "cell_type": "code",
   "execution_count": 23,
   "id": "6324c3e5-8b69-4700-93a2-fa1c8b5e9b9c",
   "metadata": {},
   "outputs": [],
   "source": [
    "# WEEK 6"
   ]
  },
  {
   "cell_type": "code",
   "execution_count": 24,
   "id": "00fbfb26-3710-4e35-a163-27adb215e949",
   "metadata": {},
   "outputs": [],
   "source": [
    "# Split data into training and testing\n",
    "from sklearn import model_selection\n",
    "from sklearn.model_selection import train_test_split\n",
    "X_train, X_test, y_train, y_test = model_selection.train_test_split(X, y, test_size=0.2, random_state=42) "
   ]
  },
  {
   "cell_type": "code",
   "execution_count": 25,
   "id": "41cbe21c-d129-4524-bea0-442245d4a2b2",
   "metadata": {},
   "outputs": [
    {
     "data": {
      "text/html": [
       "<div>\n",
       "<style scoped>\n",
       "    .dataframe tbody tr th:only-of-type {\n",
       "        vertical-align: middle;\n",
       "    }\n",
       "\n",
       "    .dataframe tbody tr th {\n",
       "        vertical-align: top;\n",
       "    }\n",
       "\n",
       "    .dataframe thead th {\n",
       "        text-align: right;\n",
       "    }\n",
       "</style>\n",
       "<table border=\"1\" class=\"dataframe\">\n",
       "  <thead>\n",
       "    <tr style=\"text-align: right;\">\n",
       "      <th></th>\n",
       "      <th>CreditScore</th>\n",
       "      <th>Gender</th>\n",
       "      <th>Age</th>\n",
       "      <th>Tenure</th>\n",
       "      <th>Balance</th>\n",
       "      <th>NumOfProducts</th>\n",
       "      <th>HasCrCard</th>\n",
       "      <th>IsActiveMember</th>\n",
       "      <th>EstimatedSalary</th>\n",
       "      <th>Geography_France</th>\n",
       "      <th>Geography_Germany</th>\n",
       "      <th>Geography_Spain</th>\n",
       "    </tr>\n",
       "  </thead>\n",
       "  <tbody>\n",
       "    <tr>\n",
       "      <th>9254</th>\n",
       "      <td>686</td>\n",
       "      <td>1</td>\n",
       "      <td>32</td>\n",
       "      <td>6</td>\n",
       "      <td>0.00</td>\n",
       "      <td>2</td>\n",
       "      <td>1</td>\n",
       "      <td>1</td>\n",
       "      <td>179093.26</td>\n",
       "      <td>1</td>\n",
       "      <td>0</td>\n",
       "      <td>0</td>\n",
       "    </tr>\n",
       "    <tr>\n",
       "      <th>1561</th>\n",
       "      <td>632</td>\n",
       "      <td>1</td>\n",
       "      <td>42</td>\n",
       "      <td>4</td>\n",
       "      <td>119624.60</td>\n",
       "      <td>2</td>\n",
       "      <td>1</td>\n",
       "      <td>1</td>\n",
       "      <td>195978.86</td>\n",
       "      <td>0</td>\n",
       "      <td>1</td>\n",
       "      <td>0</td>\n",
       "    </tr>\n",
       "    <tr>\n",
       "      <th>1670</th>\n",
       "      <td>559</td>\n",
       "      <td>1</td>\n",
       "      <td>24</td>\n",
       "      <td>3</td>\n",
       "      <td>114739.92</td>\n",
       "      <td>1</td>\n",
       "      <td>1</td>\n",
       "      <td>0</td>\n",
       "      <td>85891.02</td>\n",
       "      <td>0</td>\n",
       "      <td>0</td>\n",
       "      <td>1</td>\n",
       "    </tr>\n",
       "    <tr>\n",
       "      <th>6087</th>\n",
       "      <td>561</td>\n",
       "      <td>0</td>\n",
       "      <td>27</td>\n",
       "      <td>9</td>\n",
       "      <td>135637.00</td>\n",
       "      <td>1</td>\n",
       "      <td>1</td>\n",
       "      <td>0</td>\n",
       "      <td>153080.40</td>\n",
       "      <td>1</td>\n",
       "      <td>0</td>\n",
       "      <td>0</td>\n",
       "    </tr>\n",
       "    <tr>\n",
       "      <th>6669</th>\n",
       "      <td>517</td>\n",
       "      <td>1</td>\n",
       "      <td>56</td>\n",
       "      <td>9</td>\n",
       "      <td>142147.32</td>\n",
       "      <td>1</td>\n",
       "      <td>0</td>\n",
       "      <td>0</td>\n",
       "      <td>39488.04</td>\n",
       "      <td>1</td>\n",
       "      <td>0</td>\n",
       "      <td>0</td>\n",
       "    </tr>\n",
       "  </tbody>\n",
       "</table>\n",
       "</div>"
      ],
      "text/plain": [
       "      CreditScore  Gender  Age  Tenure    Balance  NumOfProducts  HasCrCard  \\\n",
       "9254          686       1   32       6       0.00              2          1   \n",
       "1561          632       1   42       4  119624.60              2          1   \n",
       "1670          559       1   24       3  114739.92              1          1   \n",
       "6087          561       0   27       9  135637.00              1          1   \n",
       "6669          517       1   56       9  142147.32              1          0   \n",
       "\n",
       "      IsActiveMember  EstimatedSalary  Geography_France  Geography_Germany  \\\n",
       "9254               1        179093.26                 1                  0   \n",
       "1561               1        195978.86                 0                  1   \n",
       "1670               0         85891.02                 0                  0   \n",
       "6087               0        153080.40                 1                  0   \n",
       "6669               0         39488.04                 1                  0   \n",
       "\n",
       "      Geography_Spain  \n",
       "9254                0  \n",
       "1561                0  \n",
       "1670                1  \n",
       "6087                0  \n",
       "6669                0  "
      ]
     },
     "execution_count": 25,
     "metadata": {},
     "output_type": "execute_result"
    }
   ],
   "source": [
    "X_train.head()"
   ]
  },
  {
   "cell_type": "code",
   "execution_count": 26,
   "id": "ceb9d703-bd73-477b-a85b-86c9459d2467",
   "metadata": {},
   "outputs": [],
   "source": [
    "# variation 1"
   ]
  },
  {
   "cell_type": "code",
   "execution_count": 27,
   "id": "28e8a8e8-22a9-4c89-b1ff-57aa67da5ebb",
   "metadata": {},
   "outputs": [],
   "source": [
    "# split the training set into training and validation\n",
    "X_train, X_val, y_train, y_val = model_selection.train_test_split(X_train, y_train, test_size=0.2, random_state=42) "
   ]
  },
  {
   "cell_type": "code",
   "execution_count": 28,
   "id": "0c90f4d5-d329-46be-a1e8-d83787d570e7",
   "metadata": {},
   "outputs": [
    {
     "name": "stdout",
     "output_type": "stream",
     "text": [
      "Training Accuracy: 0.78671875\n",
      "Validation Accuracy: 0.789375\n",
      "Training Precision: 0.3736842105263158\n",
      "Validation Precision: 0.38636363636363635\n",
      "Training Recall: 0.053910402429764616\n",
      "Validation Recall: 0.05198776758409786\n"
     ]
    }
   ],
   "source": [
    "from sklearn.linear_model import LogisticRegression\n",
    "from sklearn.metrics import accuracy_score, precision_score, recall_score\n",
    "\n",
    "# Train a Logistic Regression Classifier on the training set\n",
    "model1 = LogisticRegression(random_state=42)\n",
    "model1.fit(X_train, y_train)\n",
    "\n",
    "# Compute accuracy, precision, and recall on the training and validation sets\n",
    "acc_train = accuracy_score(y_train, model1.predict(X_train))\n",
    "acc_val = accuracy_score(y_val, model1.predict(X_val))\n",
    "prec_train = precision_score(y_train, model1.predict(X_train))\n",
    "prec_val = precision_score(y_val, model1.predict(X_val))\n",
    "rec_train = recall_score(y_train, model1.predict(X_train))\n",
    "rec_val = recall_score(y_val, model1.predict(X_val))\n",
    "\n",
    "# Print the metrics\n",
    "print(\"Training Accuracy:\", acc_train)\n",
    "print(\"Validation Accuracy:\", acc_val)\n",
    "print(\"Training Precision:\", prec_train)\n",
    "print(\"Validation Precision:\", prec_val)\n",
    "print(\"Training Recall:\", rec_train)\n",
    "print(\"Validation Recall:\", rec_val)"
   ]
  },
  {
   "cell_type": "code",
   "execution_count": 29,
   "id": "cd92614d-b9b1-4760-b48b-ab2e883cf600",
   "metadata": {},
   "outputs": [],
   "source": [
    "# variation 2 logistic regression model with hyperparamters tuing "
   ]
  },
  {
   "cell_type": "code",
   "execution_count": 30,
   "id": "2e89543c-ec04-4c36-9e65-15dcf4525117",
   "metadata": {},
   "outputs": [],
   "source": [
    "from sklearn.model_selection import GridSearchCV\n",
    "\n",
    "# helper function for printing out grid search results \n",
    "def print_grid_search_metrics(gs):\n",
    "    print (\"Best score: \" + str(gs.best_score_))\n",
    "    print (\"Best parameters set:\")\n",
    "    best_parameters = gs.best_params_\n",
    "    for param_name in sorted(best_parameters.keys()):\n",
    "        print(param_name + ':' + str(best_parameters[param_name]))"
   ]
  },
  {
   "cell_type": "code",
   "execution_count": 31,
   "id": "9174f55f-171c-4214-bfe1-f6a00592399a",
   "metadata": {},
   "outputs": [
    {
     "data": {
      "text/html": [
       "<style>#sk-container-id-1 {color: black;background-color: white;}#sk-container-id-1 pre{padding: 0;}#sk-container-id-1 div.sk-toggleable {background-color: white;}#sk-container-id-1 label.sk-toggleable__label {cursor: pointer;display: block;width: 100%;margin-bottom: 0;padding: 0.3em;box-sizing: border-box;text-align: center;}#sk-container-id-1 label.sk-toggleable__label-arrow:before {content: \"▸\";float: left;margin-right: 0.25em;color: #696969;}#sk-container-id-1 label.sk-toggleable__label-arrow:hover:before {color: black;}#sk-container-id-1 div.sk-estimator:hover label.sk-toggleable__label-arrow:before {color: black;}#sk-container-id-1 div.sk-toggleable__content {max-height: 0;max-width: 0;overflow: hidden;text-align: left;background-color: #f0f8ff;}#sk-container-id-1 div.sk-toggleable__content pre {margin: 0.2em;color: black;border-radius: 0.25em;background-color: #f0f8ff;}#sk-container-id-1 input.sk-toggleable__control:checked~div.sk-toggleable__content {max-height: 200px;max-width: 100%;overflow: auto;}#sk-container-id-1 input.sk-toggleable__control:checked~label.sk-toggleable__label-arrow:before {content: \"▾\";}#sk-container-id-1 div.sk-estimator input.sk-toggleable__control:checked~label.sk-toggleable__label {background-color: #d4ebff;}#sk-container-id-1 div.sk-label input.sk-toggleable__control:checked~label.sk-toggleable__label {background-color: #d4ebff;}#sk-container-id-1 input.sk-hidden--visually {border: 0;clip: rect(1px 1px 1px 1px);clip: rect(1px, 1px, 1px, 1px);height: 1px;margin: -1px;overflow: hidden;padding: 0;position: absolute;width: 1px;}#sk-container-id-1 div.sk-estimator {font-family: monospace;background-color: #f0f8ff;border: 1px dotted black;border-radius: 0.25em;box-sizing: border-box;margin-bottom: 0.5em;}#sk-container-id-1 div.sk-estimator:hover {background-color: #d4ebff;}#sk-container-id-1 div.sk-parallel-item::after {content: \"\";width: 100%;border-bottom: 1px solid gray;flex-grow: 1;}#sk-container-id-1 div.sk-label:hover label.sk-toggleable__label {background-color: #d4ebff;}#sk-container-id-1 div.sk-serial::before {content: \"\";position: absolute;border-left: 1px solid gray;box-sizing: border-box;top: 0;bottom: 0;left: 50%;z-index: 0;}#sk-container-id-1 div.sk-serial {display: flex;flex-direction: column;align-items: center;background-color: white;padding-right: 0.2em;padding-left: 0.2em;position: relative;}#sk-container-id-1 div.sk-item {position: relative;z-index: 1;}#sk-container-id-1 div.sk-parallel {display: flex;align-items: stretch;justify-content: center;background-color: white;position: relative;}#sk-container-id-1 div.sk-item::before, #sk-container-id-1 div.sk-parallel-item::before {content: \"\";position: absolute;border-left: 1px solid gray;box-sizing: border-box;top: 0;bottom: 0;left: 50%;z-index: -1;}#sk-container-id-1 div.sk-parallel-item {display: flex;flex-direction: column;z-index: 1;position: relative;background-color: white;}#sk-container-id-1 div.sk-parallel-item:first-child::after {align-self: flex-end;width: 50%;}#sk-container-id-1 div.sk-parallel-item:last-child::after {align-self: flex-start;width: 50%;}#sk-container-id-1 div.sk-parallel-item:only-child::after {width: 0;}#sk-container-id-1 div.sk-dashed-wrapped {border: 1px dashed gray;margin: 0 0.4em 0.5em 0.4em;box-sizing: border-box;padding-bottom: 0.4em;background-color: white;}#sk-container-id-1 div.sk-label label {font-family: monospace;font-weight: bold;display: inline-block;line-height: 1.2em;}#sk-container-id-1 div.sk-label-container {text-align: center;}#sk-container-id-1 div.sk-container {/* jupyter's `normalize.less` sets `[hidden] { display: none; }` but bootstrap.min.css set `[hidden] { display: none !important; }` so we also need the `!important` here to be able to override the default hidden behavior on the sphinx rendered scikit-learn.org. See: https://github.com/scikit-learn/scikit-learn/issues/21755 */display: inline-block !important;position: relative;}#sk-container-id-1 div.sk-text-repr-fallback {display: none;}</style><div id=\"sk-container-id-1\" class=\"sk-top-container\"><div class=\"sk-text-repr-fallback\"><pre>GridSearchCV(cv=5, estimator=LogisticRegression(solver=&#x27;liblinear&#x27;),\n",
       "             param_grid={&#x27;C&#x27;: (0.01, 0.05, 0.1, 0.2, 1),\n",
       "                         &#x27;penalty&#x27;: (&#x27;l2&#x27;, &#x27;l1&#x27;)})</pre><b>In a Jupyter environment, please rerun this cell to show the HTML representation or trust the notebook. <br />On GitHub, the HTML representation is unable to render, please try loading this page with nbviewer.org.</b></div><div class=\"sk-container\" hidden><div class=\"sk-item sk-dashed-wrapped\"><div class=\"sk-label-container\"><div class=\"sk-label sk-toggleable\"><input class=\"sk-toggleable__control sk-hidden--visually\" id=\"sk-estimator-id-1\" type=\"checkbox\" ><label for=\"sk-estimator-id-1\" class=\"sk-toggleable__label sk-toggleable__label-arrow\">GridSearchCV</label><div class=\"sk-toggleable__content\"><pre>GridSearchCV(cv=5, estimator=LogisticRegression(solver=&#x27;liblinear&#x27;),\n",
       "             param_grid={&#x27;C&#x27;: (0.01, 0.05, 0.1, 0.2, 1),\n",
       "                         &#x27;penalty&#x27;: (&#x27;l2&#x27;, &#x27;l1&#x27;)})</pre></div></div></div><div class=\"sk-parallel\"><div class=\"sk-parallel-item\"><div class=\"sk-item\"><div class=\"sk-label-container\"><div class=\"sk-label sk-toggleable\"><input class=\"sk-toggleable__control sk-hidden--visually\" id=\"sk-estimator-id-2\" type=\"checkbox\" ><label for=\"sk-estimator-id-2\" class=\"sk-toggleable__label sk-toggleable__label-arrow\">estimator: LogisticRegression</label><div class=\"sk-toggleable__content\"><pre>LogisticRegression(solver=&#x27;liblinear&#x27;)</pre></div></div></div><div class=\"sk-serial\"><div class=\"sk-item\"><div class=\"sk-estimator sk-toggleable\"><input class=\"sk-toggleable__control sk-hidden--visually\" id=\"sk-estimator-id-3\" type=\"checkbox\" ><label for=\"sk-estimator-id-3\" class=\"sk-toggleable__label sk-toggleable__label-arrow\">LogisticRegression</label><div class=\"sk-toggleable__content\"><pre>LogisticRegression(solver=&#x27;liblinear&#x27;)</pre></div></div></div></div></div></div></div></div></div></div>"
      ],
      "text/plain": [
       "GridSearchCV(cv=5, estimator=LogisticRegression(solver='liblinear'),\n",
       "             param_grid={'C': (0.01, 0.05, 0.1, 0.2, 1),\n",
       "                         'penalty': ('l2', 'l1')})"
      ]
     },
     "execution_count": 31,
     "metadata": {},
     "output_type": "execute_result"
    }
   ],
   "source": [
    "# Possible hyperparamter options for Logistic Regression Regularization\n",
    "# Penalty is choosed from L1 or L2\n",
    "# C is the 1/lambda value(weight) for L1 and L2\n",
    "# solver: algorithm to find the weights that minimize the cost function\n",
    "\n",
    "# ('l1', 0.01)('l1', 0.05) ('l1', 0.1) ('l1', 0.2)('l1', 1)\n",
    "# ('12', 0.01)('l2', 0.05) ('l2', 0.1) ('l2', 0.2)('l2', 1)\n",
    "parameters = {\n",
    "    'penalty':('l2','l1'), \n",
    "    'C':(0.01, 0.05, 0.1, 0.2, 1)\n",
    "}\n",
    "Grid_LR = GridSearchCV(LogisticRegression(solver='liblinear'),parameters, cv=5)\n",
    "Grid_LR.fit(X_train, y_train)"
   ]
  },
  {
   "cell_type": "code",
   "execution_count": 32,
   "id": "41e08eb2-042f-4e53-9468-9c69f38434c4",
   "metadata": {},
   "outputs": [
    {
     "name": "stdout",
     "output_type": "stream",
     "text": [
      "Best score: 0.81015625\n",
      "Best parameters set:\n",
      "C:0.1\n",
      "penalty:l1\n"
     ]
    }
   ],
   "source": [
    "# the best hyperparameter combination\n",
    "# C = 1/lambda\n",
    "print_grid_search_metrics(Grid_LR)"
   ]
  },
  {
   "cell_type": "code",
   "execution_count": 33,
   "id": "3d55b615-db92-45e6-87d9-6d87f950391e",
   "metadata": {},
   "outputs": [],
   "source": [
    "# best lg\n",
    "model2 = Grid_LR.best_estimator_"
   ]
  },
  {
   "cell_type": "code",
   "execution_count": 34,
   "id": "d2d1cf44-7be4-4086-8f1c-6e4e8bc6a07f",
   "metadata": {},
   "outputs": [],
   "source": [
    "# Make predictions on the training set\n",
    "y_train_pred2 = model2.predict(X_train)"
   ]
  },
  {
   "cell_type": "code",
   "execution_count": 35,
   "id": "c2b0947a-af87-478a-9925-346cc9cd9372",
   "metadata": {},
   "outputs": [],
   "source": [
    "# Calculate performance metrics on the training set\n",
    "train_acc2 = accuracy_score(y_train, y_train_pred2)\n",
    "train_prec2 = precision_score(y_train, y_train_pred2, average='macro')\n",
    "train_rec2 = recall_score(y_train, y_train_pred2, average='macro')\n",
    "train_f1_2 = f1_score(y_train, y_train_pred2, average='macro')"
   ]
  },
  {
   "cell_type": "code",
   "execution_count": 36,
   "id": "093b0599-1821-4216-bd01-bb7008e1a196",
   "metadata": {},
   "outputs": [],
   "source": [
    "# Make predictions on the validation set\n",
    "y_val_pred2 = model2.predict(X_val)"
   ]
  },
  {
   "cell_type": "code",
   "execution_count": 37,
   "id": "4cadfd0a-8c3e-4617-acbc-1e9f38f65f36",
   "metadata": {},
   "outputs": [],
   "source": [
    "# Calculate performance metrics on the validation set\n",
    "val_acc2 = accuracy_score(y_val, y_val_pred2)\n",
    "val_prec2 = precision_score(y_val, y_val_pred2, average='macro')\n",
    "val_rec2 = recall_score(y_val, y_val_pred2, average='macro')\n",
    "val_f1_2 = f1_score(y_val, y_val_pred2, average='macro')"
   ]
  },
  {
   "cell_type": "code",
   "execution_count": 38,
   "id": "3583f31e-6015-4152-89ae-ca53b4e67006",
   "metadata": {},
   "outputs": [],
   "source": [
    "# variation 3 l2 penalty "
   ]
  },
  {
   "cell_type": "code",
   "execution_count": 39,
   "id": "41d2bf27-ff4d-4e83-9733-d59312930dda",
   "metadata": {},
   "outputs": [
    {
     "name": "stdout",
     "output_type": "stream",
     "text": [
      "Training Accuracy: 0.78671875\n",
      "Validation Accuracy: 0.789375\n",
      "Training Precision: 0.3736842105263158\n",
      "Validation Precision: 0.38636363636363635\n",
      "Training Recall: 0.053910402429764616\n",
      "Validation Recall: 0.05198776758409786\n"
     ]
    }
   ],
   "source": [
    "# Train a Logistic Regression Classifier on the training set\n",
    "model3 = LogisticRegression(penalty='l2', C=100.0, random_state=42)\n",
    "model3.fit(X_train, y_train)\n",
    "\n",
    "# Compute accuracy, precision, and recall on the training and validation sets\n",
    "acc_train = accuracy_score(y_train, model3.predict(X_train))\n",
    "acc_val = accuracy_score(y_val, model3.predict(X_val))\n",
    "prec_train = precision_score(y_train, model3.predict(X_train))\n",
    "prec_val = precision_score(y_val, model3.predict(X_val))\n",
    "rec_train = recall_score(y_train, model3.predict(X_train))\n",
    "rec_val = recall_score(y_val, model3.predict(X_val))\n",
    "\n",
    "# Print the metrics\n",
    "print(\"Training Accuracy:\", acc_train)\n",
    "print(\"Validation Accuracy:\", acc_val)\n",
    "print(\"Training Precision:\", prec_train)\n",
    "print(\"Validation Precision:\", prec_val)\n",
    "print(\"Training Recall:\", rec_train)\n",
    "print(\"Validation Recall:\", rec_val)"
   ]
  },
  {
   "cell_type": "code",
   "execution_count": 40,
   "id": "e7410bd6-54b2-434e-a32e-795da8b2401f",
   "metadata": {},
   "outputs": [],
   "source": [
    "# Week 7 Random Forest"
   ]
  },
  {
   "cell_type": "code",
   "execution_count": 41,
   "id": "b1287297-a132-4e08-b905-85802d6e444b",
   "metadata": {},
   "outputs": [],
   "source": [
    "from sklearn.ensemble import RandomForestClassifier\n",
    "from sklearn.model_selection import GridSearchCV\n",
    "from sklearn.metrics import accuracy_score, precision_score, recall_score, f1_score"
   ]
  },
  {
   "cell_type": "code",
   "execution_count": 42,
   "id": "cb48a4d8-c21f-43ac-b094-a0abada1f105",
   "metadata": {},
   "outputs": [],
   "source": [
    "# variation 1: base model-without tuning the hyperparameter"
   ]
  },
  {
   "cell_type": "code",
   "execution_count": 43,
   "id": "abe976ae-fa99-47df-a53c-1e0e0a6145b5",
   "metadata": {},
   "outputs": [],
   "source": [
    "# Define the base model\n",
    "model4 = RandomForestClassifier(random_state=42)"
   ]
  },
  {
   "cell_type": "code",
   "execution_count": 44,
   "id": "55a2b508-cdfe-40ca-bed1-32bec998b5a4",
   "metadata": {},
   "outputs": [
    {
     "data": {
      "text/html": [
       "<style>#sk-container-id-2 {color: black;background-color: white;}#sk-container-id-2 pre{padding: 0;}#sk-container-id-2 div.sk-toggleable {background-color: white;}#sk-container-id-2 label.sk-toggleable__label {cursor: pointer;display: block;width: 100%;margin-bottom: 0;padding: 0.3em;box-sizing: border-box;text-align: center;}#sk-container-id-2 label.sk-toggleable__label-arrow:before {content: \"▸\";float: left;margin-right: 0.25em;color: #696969;}#sk-container-id-2 label.sk-toggleable__label-arrow:hover:before {color: black;}#sk-container-id-2 div.sk-estimator:hover label.sk-toggleable__label-arrow:before {color: black;}#sk-container-id-2 div.sk-toggleable__content {max-height: 0;max-width: 0;overflow: hidden;text-align: left;background-color: #f0f8ff;}#sk-container-id-2 div.sk-toggleable__content pre {margin: 0.2em;color: black;border-radius: 0.25em;background-color: #f0f8ff;}#sk-container-id-2 input.sk-toggleable__control:checked~div.sk-toggleable__content {max-height: 200px;max-width: 100%;overflow: auto;}#sk-container-id-2 input.sk-toggleable__control:checked~label.sk-toggleable__label-arrow:before {content: \"▾\";}#sk-container-id-2 div.sk-estimator input.sk-toggleable__control:checked~label.sk-toggleable__label {background-color: #d4ebff;}#sk-container-id-2 div.sk-label input.sk-toggleable__control:checked~label.sk-toggleable__label {background-color: #d4ebff;}#sk-container-id-2 input.sk-hidden--visually {border: 0;clip: rect(1px 1px 1px 1px);clip: rect(1px, 1px, 1px, 1px);height: 1px;margin: -1px;overflow: hidden;padding: 0;position: absolute;width: 1px;}#sk-container-id-2 div.sk-estimator {font-family: monospace;background-color: #f0f8ff;border: 1px dotted black;border-radius: 0.25em;box-sizing: border-box;margin-bottom: 0.5em;}#sk-container-id-2 div.sk-estimator:hover {background-color: #d4ebff;}#sk-container-id-2 div.sk-parallel-item::after {content: \"\";width: 100%;border-bottom: 1px solid gray;flex-grow: 1;}#sk-container-id-2 div.sk-label:hover label.sk-toggleable__label {background-color: #d4ebff;}#sk-container-id-2 div.sk-serial::before {content: \"\";position: absolute;border-left: 1px solid gray;box-sizing: border-box;top: 0;bottom: 0;left: 50%;z-index: 0;}#sk-container-id-2 div.sk-serial {display: flex;flex-direction: column;align-items: center;background-color: white;padding-right: 0.2em;padding-left: 0.2em;position: relative;}#sk-container-id-2 div.sk-item {position: relative;z-index: 1;}#sk-container-id-2 div.sk-parallel {display: flex;align-items: stretch;justify-content: center;background-color: white;position: relative;}#sk-container-id-2 div.sk-item::before, #sk-container-id-2 div.sk-parallel-item::before {content: \"\";position: absolute;border-left: 1px solid gray;box-sizing: border-box;top: 0;bottom: 0;left: 50%;z-index: -1;}#sk-container-id-2 div.sk-parallel-item {display: flex;flex-direction: column;z-index: 1;position: relative;background-color: white;}#sk-container-id-2 div.sk-parallel-item:first-child::after {align-self: flex-end;width: 50%;}#sk-container-id-2 div.sk-parallel-item:last-child::after {align-self: flex-start;width: 50%;}#sk-container-id-2 div.sk-parallel-item:only-child::after {width: 0;}#sk-container-id-2 div.sk-dashed-wrapped {border: 1px dashed gray;margin: 0 0.4em 0.5em 0.4em;box-sizing: border-box;padding-bottom: 0.4em;background-color: white;}#sk-container-id-2 div.sk-label label {font-family: monospace;font-weight: bold;display: inline-block;line-height: 1.2em;}#sk-container-id-2 div.sk-label-container {text-align: center;}#sk-container-id-2 div.sk-container {/* jupyter's `normalize.less` sets `[hidden] { display: none; }` but bootstrap.min.css set `[hidden] { display: none !important; }` so we also need the `!important` here to be able to override the default hidden behavior on the sphinx rendered scikit-learn.org. See: https://github.com/scikit-learn/scikit-learn/issues/21755 */display: inline-block !important;position: relative;}#sk-container-id-2 div.sk-text-repr-fallback {display: none;}</style><div id=\"sk-container-id-2\" class=\"sk-top-container\"><div class=\"sk-text-repr-fallback\"><pre>RandomForestClassifier(random_state=42)</pre><b>In a Jupyter environment, please rerun this cell to show the HTML representation or trust the notebook. <br />On GitHub, the HTML representation is unable to render, please try loading this page with nbviewer.org.</b></div><div class=\"sk-container\" hidden><div class=\"sk-item\"><div class=\"sk-estimator sk-toggleable\"><input class=\"sk-toggleable__control sk-hidden--visually\" id=\"sk-estimator-id-4\" type=\"checkbox\" checked><label for=\"sk-estimator-id-4\" class=\"sk-toggleable__label sk-toggleable__label-arrow\">RandomForestClassifier</label><div class=\"sk-toggleable__content\"><pre>RandomForestClassifier(random_state=42)</pre></div></div></div></div></div>"
      ],
      "text/plain": [
       "RandomForestClassifier(random_state=42)"
      ]
     },
     "execution_count": 44,
     "metadata": {},
     "output_type": "execute_result"
    }
   ],
   "source": [
    "# Train the base model\n",
    "model4.fit(X_train, y_train)"
   ]
  },
  {
   "cell_type": "code",
   "execution_count": 45,
   "id": "2eb52b40-6c5b-45d5-8d34-22deb48dc6ac",
   "metadata": {},
   "outputs": [],
   "source": [
    "# Make predictions on the training set\n",
    "y_train_pred = model4.predict(X_train)"
   ]
  },
  {
   "cell_type": "code",
   "execution_count": 46,
   "id": "993d42a2-56a1-40b2-8580-1302b57fbb57",
   "metadata": {},
   "outputs": [],
   "source": [
    "# Calculate performance metrics on the training set\n",
    "train_acc1 = accuracy_score(y_train, y_train_pred)\n",
    "train_prec1 = precision_score(y_train, y_train_pred, average='macro')\n",
    "train_rec1 = recall_score(y_train, y_train_pred, average='macro')\n",
    "train_f1_1 = f1_score(y_train, y_train_pred, average='macro')"
   ]
  },
  {
   "cell_type": "code",
   "execution_count": 47,
   "id": "0bfdb25f-1359-473d-9098-2d81c707e519",
   "metadata": {},
   "outputs": [],
   "source": [
    "# Make predictions on the validation set\n",
    "y_val_pred = model4.predict(X_val)"
   ]
  },
  {
   "cell_type": "code",
   "execution_count": 48,
   "id": "447daa86-232f-45e9-a378-4363b9ba0bcf",
   "metadata": {},
   "outputs": [],
   "source": [
    "# Calculate performance metrics on the validation set\n",
    "val_acc1 = accuracy_score(y_val, y_val_pred)\n",
    "val_prec1 = precision_score(y_val, y_val_pred, average='macro')\n",
    "val_rec1 = recall_score(y_val, y_val_pred, average='macro')\n",
    "val_f1_1 = f1_score(y_val, y_val_pred, average='macro')"
   ]
  },
  {
   "cell_type": "code",
   "execution_count": 49,
   "id": "4e6ab80d-e343-4c7e-93ac-5d185ed86e4c",
   "metadata": {},
   "outputs": [],
   "source": [
    "# variation 2: use grid serach to tune the hyperparameter"
   ]
  },
  {
   "cell_type": "code",
   "execution_count": 50,
   "id": "80c8a04f-274e-471b-912c-837c1d7a8658",
   "metadata": {},
   "outputs": [],
   "source": [
    "# Define the tuned model\n",
    "parameters = {'n_estimators':[60, 80, 100], 'max_depth':[1, 5, 10]}\n",
    "RF_model2 = GridSearchCV(RandomForestClassifier(random_state=42), parameters, cv=5)"
   ]
  },
  {
   "cell_type": "code",
   "execution_count": 51,
   "id": "156d8fab-6507-43a5-b43d-135569d9efc3",
   "metadata": {},
   "outputs": [
    {
     "data": {
      "text/html": [
       "<style>#sk-container-id-3 {color: black;background-color: white;}#sk-container-id-3 pre{padding: 0;}#sk-container-id-3 div.sk-toggleable {background-color: white;}#sk-container-id-3 label.sk-toggleable__label {cursor: pointer;display: block;width: 100%;margin-bottom: 0;padding: 0.3em;box-sizing: border-box;text-align: center;}#sk-container-id-3 label.sk-toggleable__label-arrow:before {content: \"▸\";float: left;margin-right: 0.25em;color: #696969;}#sk-container-id-3 label.sk-toggleable__label-arrow:hover:before {color: black;}#sk-container-id-3 div.sk-estimator:hover label.sk-toggleable__label-arrow:before {color: black;}#sk-container-id-3 div.sk-toggleable__content {max-height: 0;max-width: 0;overflow: hidden;text-align: left;background-color: #f0f8ff;}#sk-container-id-3 div.sk-toggleable__content pre {margin: 0.2em;color: black;border-radius: 0.25em;background-color: #f0f8ff;}#sk-container-id-3 input.sk-toggleable__control:checked~div.sk-toggleable__content {max-height: 200px;max-width: 100%;overflow: auto;}#sk-container-id-3 input.sk-toggleable__control:checked~label.sk-toggleable__label-arrow:before {content: \"▾\";}#sk-container-id-3 div.sk-estimator input.sk-toggleable__control:checked~label.sk-toggleable__label {background-color: #d4ebff;}#sk-container-id-3 div.sk-label input.sk-toggleable__control:checked~label.sk-toggleable__label {background-color: #d4ebff;}#sk-container-id-3 input.sk-hidden--visually {border: 0;clip: rect(1px 1px 1px 1px);clip: rect(1px, 1px, 1px, 1px);height: 1px;margin: -1px;overflow: hidden;padding: 0;position: absolute;width: 1px;}#sk-container-id-3 div.sk-estimator {font-family: monospace;background-color: #f0f8ff;border: 1px dotted black;border-radius: 0.25em;box-sizing: border-box;margin-bottom: 0.5em;}#sk-container-id-3 div.sk-estimator:hover {background-color: #d4ebff;}#sk-container-id-3 div.sk-parallel-item::after {content: \"\";width: 100%;border-bottom: 1px solid gray;flex-grow: 1;}#sk-container-id-3 div.sk-label:hover label.sk-toggleable__label {background-color: #d4ebff;}#sk-container-id-3 div.sk-serial::before {content: \"\";position: absolute;border-left: 1px solid gray;box-sizing: border-box;top: 0;bottom: 0;left: 50%;z-index: 0;}#sk-container-id-3 div.sk-serial {display: flex;flex-direction: column;align-items: center;background-color: white;padding-right: 0.2em;padding-left: 0.2em;position: relative;}#sk-container-id-3 div.sk-item {position: relative;z-index: 1;}#sk-container-id-3 div.sk-parallel {display: flex;align-items: stretch;justify-content: center;background-color: white;position: relative;}#sk-container-id-3 div.sk-item::before, #sk-container-id-3 div.sk-parallel-item::before {content: \"\";position: absolute;border-left: 1px solid gray;box-sizing: border-box;top: 0;bottom: 0;left: 50%;z-index: -1;}#sk-container-id-3 div.sk-parallel-item {display: flex;flex-direction: column;z-index: 1;position: relative;background-color: white;}#sk-container-id-3 div.sk-parallel-item:first-child::after {align-self: flex-end;width: 50%;}#sk-container-id-3 div.sk-parallel-item:last-child::after {align-self: flex-start;width: 50%;}#sk-container-id-3 div.sk-parallel-item:only-child::after {width: 0;}#sk-container-id-3 div.sk-dashed-wrapped {border: 1px dashed gray;margin: 0 0.4em 0.5em 0.4em;box-sizing: border-box;padding-bottom: 0.4em;background-color: white;}#sk-container-id-3 div.sk-label label {font-family: monospace;font-weight: bold;display: inline-block;line-height: 1.2em;}#sk-container-id-3 div.sk-label-container {text-align: center;}#sk-container-id-3 div.sk-container {/* jupyter's `normalize.less` sets `[hidden] { display: none; }` but bootstrap.min.css set `[hidden] { display: none !important; }` so we also need the `!important` here to be able to override the default hidden behavior on the sphinx rendered scikit-learn.org. See: https://github.com/scikit-learn/scikit-learn/issues/21755 */display: inline-block !important;position: relative;}#sk-container-id-3 div.sk-text-repr-fallback {display: none;}</style><div id=\"sk-container-id-3\" class=\"sk-top-container\"><div class=\"sk-text-repr-fallback\"><pre>GridSearchCV(cv=5, estimator=RandomForestClassifier(random_state=42),\n",
       "             param_grid={&#x27;max_depth&#x27;: [1, 5, 10],\n",
       "                         &#x27;n_estimators&#x27;: [60, 80, 100]})</pre><b>In a Jupyter environment, please rerun this cell to show the HTML representation or trust the notebook. <br />On GitHub, the HTML representation is unable to render, please try loading this page with nbviewer.org.</b></div><div class=\"sk-container\" hidden><div class=\"sk-item sk-dashed-wrapped\"><div class=\"sk-label-container\"><div class=\"sk-label sk-toggleable\"><input class=\"sk-toggleable__control sk-hidden--visually\" id=\"sk-estimator-id-5\" type=\"checkbox\" ><label for=\"sk-estimator-id-5\" class=\"sk-toggleable__label sk-toggleable__label-arrow\">GridSearchCV</label><div class=\"sk-toggleable__content\"><pre>GridSearchCV(cv=5, estimator=RandomForestClassifier(random_state=42),\n",
       "             param_grid={&#x27;max_depth&#x27;: [1, 5, 10],\n",
       "                         &#x27;n_estimators&#x27;: [60, 80, 100]})</pre></div></div></div><div class=\"sk-parallel\"><div class=\"sk-parallel-item\"><div class=\"sk-item\"><div class=\"sk-label-container\"><div class=\"sk-label sk-toggleable\"><input class=\"sk-toggleable__control sk-hidden--visually\" id=\"sk-estimator-id-6\" type=\"checkbox\" ><label for=\"sk-estimator-id-6\" class=\"sk-toggleable__label sk-toggleable__label-arrow\">estimator: RandomForestClassifier</label><div class=\"sk-toggleable__content\"><pre>RandomForestClassifier(random_state=42)</pre></div></div></div><div class=\"sk-serial\"><div class=\"sk-item\"><div class=\"sk-estimator sk-toggleable\"><input class=\"sk-toggleable__control sk-hidden--visually\" id=\"sk-estimator-id-7\" type=\"checkbox\" ><label for=\"sk-estimator-id-7\" class=\"sk-toggleable__label sk-toggleable__label-arrow\">RandomForestClassifier</label><div class=\"sk-toggleable__content\"><pre>RandomForestClassifier(random_state=42)</pre></div></div></div></div></div></div></div></div></div></div>"
      ],
      "text/plain": [
       "GridSearchCV(cv=5, estimator=RandomForestClassifier(random_state=42),\n",
       "             param_grid={'max_depth': [1, 5, 10],\n",
       "                         'n_estimators': [60, 80, 100]})"
      ]
     },
     "execution_count": 51,
     "metadata": {},
     "output_type": "execute_result"
    }
   ],
   "source": [
    "# Train the tuned model\n",
    "RF_model2.fit(X_train, y_train)"
   ]
  },
  {
   "cell_type": "code",
   "execution_count": 52,
   "id": "1c92128d-132b-42fb-a9dc-6c3448a3ae61",
   "metadata": {},
   "outputs": [
    {
     "name": "stdout",
     "output_type": "stream",
     "text": [
      "Best score: 0.8612499999999998\n",
      "Best parameters set:\n",
      "max_depth:10\n",
      "n_estimators:80\n"
     ]
    }
   ],
   "source": [
    "# helper function for printing out grid search results \n",
    "def print_grid_search_metrics(gs):\n",
    "    print (\"Best score: \" + str(gs.best_score_))\n",
    "    print (\"Best parameters set:\")\n",
    "    best_parameters = gs.best_params_\n",
    "    for param_name in sorted(best_parameters.keys()):\n",
    "        print(param_name + ':' + str(best_parameters[param_name]))\n",
    "# best number of tress\n",
    "print_grid_search_metrics(RF_model2)"
   ]
  },
  {
   "cell_type": "code",
   "execution_count": 53,
   "id": "e69d5137-fbfe-4c87-89e0-7a0079571356",
   "metadata": {},
   "outputs": [],
   "source": [
    "# best random forest\n",
    "model5 = RF_model2.best_estimator_"
   ]
  },
  {
   "cell_type": "code",
   "execution_count": 54,
   "id": "a8faa14a-0c47-405d-95fc-8f12ef308515",
   "metadata": {},
   "outputs": [
    {
     "data": {
      "text/html": [
       "<style>#sk-container-id-4 {color: black;background-color: white;}#sk-container-id-4 pre{padding: 0;}#sk-container-id-4 div.sk-toggleable {background-color: white;}#sk-container-id-4 label.sk-toggleable__label {cursor: pointer;display: block;width: 100%;margin-bottom: 0;padding: 0.3em;box-sizing: border-box;text-align: center;}#sk-container-id-4 label.sk-toggleable__label-arrow:before {content: \"▸\";float: left;margin-right: 0.25em;color: #696969;}#sk-container-id-4 label.sk-toggleable__label-arrow:hover:before {color: black;}#sk-container-id-4 div.sk-estimator:hover label.sk-toggleable__label-arrow:before {color: black;}#sk-container-id-4 div.sk-toggleable__content {max-height: 0;max-width: 0;overflow: hidden;text-align: left;background-color: #f0f8ff;}#sk-container-id-4 div.sk-toggleable__content pre {margin: 0.2em;color: black;border-radius: 0.25em;background-color: #f0f8ff;}#sk-container-id-4 input.sk-toggleable__control:checked~div.sk-toggleable__content {max-height: 200px;max-width: 100%;overflow: auto;}#sk-container-id-4 input.sk-toggleable__control:checked~label.sk-toggleable__label-arrow:before {content: \"▾\";}#sk-container-id-4 div.sk-estimator input.sk-toggleable__control:checked~label.sk-toggleable__label {background-color: #d4ebff;}#sk-container-id-4 div.sk-label input.sk-toggleable__control:checked~label.sk-toggleable__label {background-color: #d4ebff;}#sk-container-id-4 input.sk-hidden--visually {border: 0;clip: rect(1px 1px 1px 1px);clip: rect(1px, 1px, 1px, 1px);height: 1px;margin: -1px;overflow: hidden;padding: 0;position: absolute;width: 1px;}#sk-container-id-4 div.sk-estimator {font-family: monospace;background-color: #f0f8ff;border: 1px dotted black;border-radius: 0.25em;box-sizing: border-box;margin-bottom: 0.5em;}#sk-container-id-4 div.sk-estimator:hover {background-color: #d4ebff;}#sk-container-id-4 div.sk-parallel-item::after {content: \"\";width: 100%;border-bottom: 1px solid gray;flex-grow: 1;}#sk-container-id-4 div.sk-label:hover label.sk-toggleable__label {background-color: #d4ebff;}#sk-container-id-4 div.sk-serial::before {content: \"\";position: absolute;border-left: 1px solid gray;box-sizing: border-box;top: 0;bottom: 0;left: 50%;z-index: 0;}#sk-container-id-4 div.sk-serial {display: flex;flex-direction: column;align-items: center;background-color: white;padding-right: 0.2em;padding-left: 0.2em;position: relative;}#sk-container-id-4 div.sk-item {position: relative;z-index: 1;}#sk-container-id-4 div.sk-parallel {display: flex;align-items: stretch;justify-content: center;background-color: white;position: relative;}#sk-container-id-4 div.sk-item::before, #sk-container-id-4 div.sk-parallel-item::before {content: \"\";position: absolute;border-left: 1px solid gray;box-sizing: border-box;top: 0;bottom: 0;left: 50%;z-index: -1;}#sk-container-id-4 div.sk-parallel-item {display: flex;flex-direction: column;z-index: 1;position: relative;background-color: white;}#sk-container-id-4 div.sk-parallel-item:first-child::after {align-self: flex-end;width: 50%;}#sk-container-id-4 div.sk-parallel-item:last-child::after {align-self: flex-start;width: 50%;}#sk-container-id-4 div.sk-parallel-item:only-child::after {width: 0;}#sk-container-id-4 div.sk-dashed-wrapped {border: 1px dashed gray;margin: 0 0.4em 0.5em 0.4em;box-sizing: border-box;padding-bottom: 0.4em;background-color: white;}#sk-container-id-4 div.sk-label label {font-family: monospace;font-weight: bold;display: inline-block;line-height: 1.2em;}#sk-container-id-4 div.sk-label-container {text-align: center;}#sk-container-id-4 div.sk-container {/* jupyter's `normalize.less` sets `[hidden] { display: none; }` but bootstrap.min.css set `[hidden] { display: none !important; }` so we also need the `!important` here to be able to override the default hidden behavior on the sphinx rendered scikit-learn.org. See: https://github.com/scikit-learn/scikit-learn/issues/21755 */display: inline-block !important;position: relative;}#sk-container-id-4 div.sk-text-repr-fallback {display: none;}</style><div id=\"sk-container-id-4\" class=\"sk-top-container\"><div class=\"sk-text-repr-fallback\"><pre>RandomForestClassifier(max_depth=10, n_estimators=80, random_state=42)</pre><b>In a Jupyter environment, please rerun this cell to show the HTML representation or trust the notebook. <br />On GitHub, the HTML representation is unable to render, please try loading this page with nbviewer.org.</b></div><div class=\"sk-container\" hidden><div class=\"sk-item\"><div class=\"sk-estimator sk-toggleable\"><input class=\"sk-toggleable__control sk-hidden--visually\" id=\"sk-estimator-id-8\" type=\"checkbox\" checked><label for=\"sk-estimator-id-8\" class=\"sk-toggleable__label sk-toggleable__label-arrow\">RandomForestClassifier</label><div class=\"sk-toggleable__content\"><pre>RandomForestClassifier(max_depth=10, n_estimators=80, random_state=42)</pre></div></div></div></div></div>"
      ],
      "text/plain": [
       "RandomForestClassifier(max_depth=10, n_estimators=80, random_state=42)"
      ]
     },
     "execution_count": 54,
     "metadata": {},
     "output_type": "execute_result"
    }
   ],
   "source": [
    "model5"
   ]
  },
  {
   "cell_type": "code",
   "execution_count": 55,
   "id": "2548fcbd-5fb4-44bd-a1d7-f82e8c387424",
   "metadata": {},
   "outputs": [],
   "source": [
    "# Make predictions on the training set\n",
    "y_train_pred2 = model5.predict(X_train)"
   ]
  },
  {
   "cell_type": "code",
   "execution_count": 56,
   "id": "1adc3eb7-4cfe-4165-a9a7-c4e7909f9b70",
   "metadata": {},
   "outputs": [],
   "source": [
    "# Calculate performance metrics on the training set\n",
    "train_acc2 = accuracy_score(y_train, y_train_pred2)\n",
    "train_prec2 = precision_score(y_train, y_train_pred2, average='macro')\n",
    "train_rec2 = recall_score(y_train, y_train_pred2, average='macro')\n",
    "train_f1_2 = f1_score(y_train, y_train_pred2, average='macro')"
   ]
  },
  {
   "cell_type": "code",
   "execution_count": 57,
   "id": "ee656a32-fb13-43fc-a77f-e806b56d9713",
   "metadata": {},
   "outputs": [],
   "source": [
    "# Make predictions on the validation set\n",
    "y_val_pred2 = model5.predict(X_val)"
   ]
  },
  {
   "cell_type": "code",
   "execution_count": 58,
   "id": "7d658240-aa55-43b5-b0dc-6b7305a854d0",
   "metadata": {},
   "outputs": [],
   "source": [
    "# Calculate performance metrics on the validation set\n",
    "val_acc2 = accuracy_score(y_val, y_val_pred2)\n",
    "val_prec2 = precision_score(y_val, y_val_pred2, average='macro')\n",
    "val_rec2 = recall_score(y_val, y_val_pred2, average='macro')\n",
    "val_f1_2 = f1_score(y_val, y_val_pred2, average='macro')"
   ]
  },
  {
   "cell_type": "code",
   "execution_count": 59,
   "id": "2329d7cf-08b8-4df8-9251-5c91bc7e0a6c",
   "metadata": {},
   "outputs": [],
   "source": [
    "# variation 3: small-trees model"
   ]
  },
  {
   "cell_type": "code",
   "execution_count": 60,
   "id": "b9a2b4b4-97ed-4401-94a2-c9e570260370",
   "metadata": {},
   "outputs": [],
   "source": [
    "model6 = RandomForestClassifier(n_estimators=10, max_depth=3, random_state=42)"
   ]
  },
  {
   "cell_type": "code",
   "execution_count": 61,
   "id": "3835e398-aa79-45d4-85c3-82baeba11bfa",
   "metadata": {},
   "outputs": [
    {
     "data": {
      "text/html": [
       "<style>#sk-container-id-5 {color: black;background-color: white;}#sk-container-id-5 pre{padding: 0;}#sk-container-id-5 div.sk-toggleable {background-color: white;}#sk-container-id-5 label.sk-toggleable__label {cursor: pointer;display: block;width: 100%;margin-bottom: 0;padding: 0.3em;box-sizing: border-box;text-align: center;}#sk-container-id-5 label.sk-toggleable__label-arrow:before {content: \"▸\";float: left;margin-right: 0.25em;color: #696969;}#sk-container-id-5 label.sk-toggleable__label-arrow:hover:before {color: black;}#sk-container-id-5 div.sk-estimator:hover label.sk-toggleable__label-arrow:before {color: black;}#sk-container-id-5 div.sk-toggleable__content {max-height: 0;max-width: 0;overflow: hidden;text-align: left;background-color: #f0f8ff;}#sk-container-id-5 div.sk-toggleable__content pre {margin: 0.2em;color: black;border-radius: 0.25em;background-color: #f0f8ff;}#sk-container-id-5 input.sk-toggleable__control:checked~div.sk-toggleable__content {max-height: 200px;max-width: 100%;overflow: auto;}#sk-container-id-5 input.sk-toggleable__control:checked~label.sk-toggleable__label-arrow:before {content: \"▾\";}#sk-container-id-5 div.sk-estimator input.sk-toggleable__control:checked~label.sk-toggleable__label {background-color: #d4ebff;}#sk-container-id-5 div.sk-label input.sk-toggleable__control:checked~label.sk-toggleable__label {background-color: #d4ebff;}#sk-container-id-5 input.sk-hidden--visually {border: 0;clip: rect(1px 1px 1px 1px);clip: rect(1px, 1px, 1px, 1px);height: 1px;margin: -1px;overflow: hidden;padding: 0;position: absolute;width: 1px;}#sk-container-id-5 div.sk-estimator {font-family: monospace;background-color: #f0f8ff;border: 1px dotted black;border-radius: 0.25em;box-sizing: border-box;margin-bottom: 0.5em;}#sk-container-id-5 div.sk-estimator:hover {background-color: #d4ebff;}#sk-container-id-5 div.sk-parallel-item::after {content: \"\";width: 100%;border-bottom: 1px solid gray;flex-grow: 1;}#sk-container-id-5 div.sk-label:hover label.sk-toggleable__label {background-color: #d4ebff;}#sk-container-id-5 div.sk-serial::before {content: \"\";position: absolute;border-left: 1px solid gray;box-sizing: border-box;top: 0;bottom: 0;left: 50%;z-index: 0;}#sk-container-id-5 div.sk-serial {display: flex;flex-direction: column;align-items: center;background-color: white;padding-right: 0.2em;padding-left: 0.2em;position: relative;}#sk-container-id-5 div.sk-item {position: relative;z-index: 1;}#sk-container-id-5 div.sk-parallel {display: flex;align-items: stretch;justify-content: center;background-color: white;position: relative;}#sk-container-id-5 div.sk-item::before, #sk-container-id-5 div.sk-parallel-item::before {content: \"\";position: absolute;border-left: 1px solid gray;box-sizing: border-box;top: 0;bottom: 0;left: 50%;z-index: -1;}#sk-container-id-5 div.sk-parallel-item {display: flex;flex-direction: column;z-index: 1;position: relative;background-color: white;}#sk-container-id-5 div.sk-parallel-item:first-child::after {align-self: flex-end;width: 50%;}#sk-container-id-5 div.sk-parallel-item:last-child::after {align-self: flex-start;width: 50%;}#sk-container-id-5 div.sk-parallel-item:only-child::after {width: 0;}#sk-container-id-5 div.sk-dashed-wrapped {border: 1px dashed gray;margin: 0 0.4em 0.5em 0.4em;box-sizing: border-box;padding-bottom: 0.4em;background-color: white;}#sk-container-id-5 div.sk-label label {font-family: monospace;font-weight: bold;display: inline-block;line-height: 1.2em;}#sk-container-id-5 div.sk-label-container {text-align: center;}#sk-container-id-5 div.sk-container {/* jupyter's `normalize.less` sets `[hidden] { display: none; }` but bootstrap.min.css set `[hidden] { display: none !important; }` so we also need the `!important` here to be able to override the default hidden behavior on the sphinx rendered scikit-learn.org. See: https://github.com/scikit-learn/scikit-learn/issues/21755 */display: inline-block !important;position: relative;}#sk-container-id-5 div.sk-text-repr-fallback {display: none;}</style><div id=\"sk-container-id-5\" class=\"sk-top-container\"><div class=\"sk-text-repr-fallback\"><pre>RandomForestClassifier(max_depth=3, n_estimators=10, random_state=42)</pre><b>In a Jupyter environment, please rerun this cell to show the HTML representation or trust the notebook. <br />On GitHub, the HTML representation is unable to render, please try loading this page with nbviewer.org.</b></div><div class=\"sk-container\" hidden><div class=\"sk-item\"><div class=\"sk-estimator sk-toggleable\"><input class=\"sk-toggleable__control sk-hidden--visually\" id=\"sk-estimator-id-9\" type=\"checkbox\" checked><label for=\"sk-estimator-id-9\" class=\"sk-toggleable__label sk-toggleable__label-arrow\">RandomForestClassifier</label><div class=\"sk-toggleable__content\"><pre>RandomForestClassifier(max_depth=3, n_estimators=10, random_state=42)</pre></div></div></div></div></div>"
      ],
      "text/plain": [
       "RandomForestClassifier(max_depth=3, n_estimators=10, random_state=42)"
      ]
     },
     "execution_count": 61,
     "metadata": {},
     "output_type": "execute_result"
    }
   ],
   "source": [
    "# Train the small-trees model\n",
    "model6.fit(X_train, y_train)"
   ]
  },
  {
   "cell_type": "code",
   "execution_count": 62,
   "id": "5a0a2d62-8cca-4bb5-b77f-17592130d885",
   "metadata": {},
   "outputs": [],
   "source": [
    "# Make predictions on the training set\n",
    "y_train_pred3 = model6.predict(X_train)"
   ]
  },
  {
   "cell_type": "code",
   "execution_count": 63,
   "id": "95922ed7-7630-46e0-af5e-b17591149a8f",
   "metadata": {},
   "outputs": [],
   "source": [
    "# Calculate performance metrics on the training set\n",
    "train_acc3 = accuracy_score(y_train, y_train_pred3)\n",
    "train_prec3 = precision_score(y_train, y_train_pred3, average='macro')\n",
    "train_rec3 = recall_score(y_train, y_train_pred3, average='macro')\n",
    "train_f1_3 = f1_score(y_train, y_train_pred3, average='macro')"
   ]
  },
  {
   "cell_type": "code",
   "execution_count": 64,
   "id": "c0c71087-98f8-441c-acb0-a91af30ca8ed",
   "metadata": {},
   "outputs": [],
   "source": [
    "# Make predictions on the validation set\n",
    "y_val_pred3 = model6.predict(X_val)"
   ]
  },
  {
   "cell_type": "code",
   "execution_count": 65,
   "id": "47837954-f50c-40ee-badc-27de3336ff63",
   "metadata": {},
   "outputs": [],
   "source": [
    "# Calculate performance metrics on the validation set\n",
    "val_acc3 = accuracy_score(y_val, y_val_pred3)\n",
    "val_prec3 = precision_score(y_val, y_val_pred3, average='macro')\n",
    "val_rec3 = recall_score(y_val, y_val_pred3, average='macro')\n",
    "val_f1_3 = f1_score(y_val, y_val_pred3, average='macro')"
   ]
  },
  {
   "cell_type": "code",
   "execution_count": 66,
   "id": "0bddcd1c-23d1-4017-9d16-a83c5e50b10f",
   "metadata": {},
   "outputs": [
    {
     "name": "stdout",
     "output_type": "stream",
     "text": [
      "                             Train Accuracy  Train Precision  Train Recall  \\\n",
      "Model                                                                        \n",
      "Random Forest (base)               0.999844         0.999902      0.999620   \n",
      "Random Forest (tuned)              0.902656         0.923887      0.773885   \n",
      "Random Forest (small trees)        0.833594         0.847013      0.609174   \n",
      "\n",
      "                             Train F1-Score  Validation Accuracy  \\\n",
      "Model                                                              \n",
      "Random Forest (base)               0.999761             0.860625   \n",
      "Random Forest (tuned)              0.821528             0.863125   \n",
      "Random Forest (small trees)        0.632358             0.831250   \n",
      "\n",
      "                             Validation Precision  Validation Recall  \\\n",
      "Model                                                                  \n",
      "Random Forest (base)                     0.818546           0.712427   \n",
      "Random Forest (tuned)                    0.835563           0.706044   \n",
      "Random Forest (small trees)              0.845238           0.599655   \n",
      "\n",
      "                             Validation F1-Score  \n",
      "Model                                             \n",
      "Random Forest (base)                    0.745937  \n",
      "Random Forest (tuned)                   0.743363  \n",
      "Random Forest (small trees)             0.619170  \n"
     ]
    }
   ],
   "source": [
    "# Create a table to compare the performance metrics of the three models\n",
    "table = pd.DataFrame({\n",
    "    'Model': ['Random Forest (base)', 'Random Forest (tuned)', 'Random Forest (small trees)'],\n",
    "    'Train Accuracy': [train_acc1, train_acc2, train_acc3],\n",
    "    'Train Precision': [train_prec1, train_prec2, train_prec3],\n",
    "    'Train Recall': [train_rec1, train_rec2, train_rec3],\n",
    "    'Train F1-Score': [train_f1_1, train_f1_2, train_f1_3],\n",
    "    'Validation Accuracy': [val_acc1, val_acc2, val_acc3],\n",
    "    'Validation Precision': [val_prec1, val_prec2, val_prec3],\n",
    "    'Validation Recall': [val_rec1, val_rec2, val_rec3],\n",
    "    'Validation F1-Score': [val_f1_1, val_f1_2, val_f1_3]\n",
    "})\n",
    "\n",
    "# Set the model column as the index\n",
    "table.set_index('Model', inplace=True)\n",
    "\n",
    "# Print the table\n",
    "print(table)"
   ]
  },
  {
   "cell_type": "code",
   "execution_count": 67,
   "id": "23c9912f-b39b-4c65-b7d7-c8463409627c",
   "metadata": {},
   "outputs": [
    {
     "name": "stdout",
     "output_type": "stream",
     "text": [
      "Feature importance ranking by Random Forest Model:\n",
      "Age : 0.2375\n",
      "EstimatedSalary : 0.1455\n",
      "CreditScore : 0.1434\n",
      "Balance : 0.1419\n",
      "NumOfProducts : 0.1315\n",
      "Tenure : 0.0818\n",
      "IsActiveMember : 0.041\n",
      "Geography_Germany : 0.0221\n",
      "Gender : 0.0194\n",
      "HasCrCard : 0.0178\n",
      "Geography_France : 0.0094\n",
      "Geography_Spain : 0.0085\n"
     ]
    }
   ],
   "source": [
    "# check feature importance of random forest for feature selection\n",
    "forest = RandomForestClassifier()\n",
    "forest.fit(X, y)\n",
    "\n",
    "importances = forest.feature_importances_\n",
    "\n",
    "indices = np.argsort(importances)[::-1]\n",
    "\n",
    "# Print the feature ranking\n",
    "print(\"Feature importance ranking by Random Forest Model:\")\n",
    "for ind in range(X.shape[1]):\n",
    "  print (\"{0} : {1}\".format(X.columns[indices[ind]],round(importances[indices[ind]], 4)))"
   ]
  },
  {
   "cell_type": "code",
   "execution_count": 68,
   "id": "1774c9c1-9b9a-47d6-bef5-f60237c4c2b9",
   "metadata": {},
   "outputs": [],
   "source": [
    "# week 8 XGBoost"
   ]
  },
  {
   "cell_type": "code",
   "execution_count": 69,
   "id": "1764cbca-d22f-4cbf-927e-06adce772c4e",
   "metadata": {},
   "outputs": [],
   "source": [
    "import xgboost as xgb\n",
    "from sklearn.metrics import accuracy_score, precision_score, recall_score, f1_score"
   ]
  },
  {
   "cell_type": "code",
   "execution_count": 70,
   "id": "261cbd32-3f93-4834-8a61-71f170696b72",
   "metadata": {},
   "outputs": [],
   "source": [
    "# variation 1: Default hyperparameters (default: max_depth = 6, min_child_weight = 1, learning_rate =0.3)"
   ]
  },
  {
   "cell_type": "code",
   "execution_count": 71,
   "id": "ef069948-2a14-4459-b05e-6dc7e212e33d",
   "metadata": {},
   "outputs": [],
   "source": [
    "# Default hyperparameters\n",
    "model7 = xgb.XGBClassifier()"
   ]
  },
  {
   "cell_type": "code",
   "execution_count": 72,
   "id": "85b03989-2769-4c7b-bf64-c3d9a5b9b5d2",
   "metadata": {},
   "outputs": [
    {
     "data": {
      "text/html": [
       "<style>#sk-container-id-6 {color: black;background-color: white;}#sk-container-id-6 pre{padding: 0;}#sk-container-id-6 div.sk-toggleable {background-color: white;}#sk-container-id-6 label.sk-toggleable__label {cursor: pointer;display: block;width: 100%;margin-bottom: 0;padding: 0.3em;box-sizing: border-box;text-align: center;}#sk-container-id-6 label.sk-toggleable__label-arrow:before {content: \"▸\";float: left;margin-right: 0.25em;color: #696969;}#sk-container-id-6 label.sk-toggleable__label-arrow:hover:before {color: black;}#sk-container-id-6 div.sk-estimator:hover label.sk-toggleable__label-arrow:before {color: black;}#sk-container-id-6 div.sk-toggleable__content {max-height: 0;max-width: 0;overflow: hidden;text-align: left;background-color: #f0f8ff;}#sk-container-id-6 div.sk-toggleable__content pre {margin: 0.2em;color: black;border-radius: 0.25em;background-color: #f0f8ff;}#sk-container-id-6 input.sk-toggleable__control:checked~div.sk-toggleable__content {max-height: 200px;max-width: 100%;overflow: auto;}#sk-container-id-6 input.sk-toggleable__control:checked~label.sk-toggleable__label-arrow:before {content: \"▾\";}#sk-container-id-6 div.sk-estimator input.sk-toggleable__control:checked~label.sk-toggleable__label {background-color: #d4ebff;}#sk-container-id-6 div.sk-label input.sk-toggleable__control:checked~label.sk-toggleable__label {background-color: #d4ebff;}#sk-container-id-6 input.sk-hidden--visually {border: 0;clip: rect(1px 1px 1px 1px);clip: rect(1px, 1px, 1px, 1px);height: 1px;margin: -1px;overflow: hidden;padding: 0;position: absolute;width: 1px;}#sk-container-id-6 div.sk-estimator {font-family: monospace;background-color: #f0f8ff;border: 1px dotted black;border-radius: 0.25em;box-sizing: border-box;margin-bottom: 0.5em;}#sk-container-id-6 div.sk-estimator:hover {background-color: #d4ebff;}#sk-container-id-6 div.sk-parallel-item::after {content: \"\";width: 100%;border-bottom: 1px solid gray;flex-grow: 1;}#sk-container-id-6 div.sk-label:hover label.sk-toggleable__label {background-color: #d4ebff;}#sk-container-id-6 div.sk-serial::before {content: \"\";position: absolute;border-left: 1px solid gray;box-sizing: border-box;top: 0;bottom: 0;left: 50%;z-index: 0;}#sk-container-id-6 div.sk-serial {display: flex;flex-direction: column;align-items: center;background-color: white;padding-right: 0.2em;padding-left: 0.2em;position: relative;}#sk-container-id-6 div.sk-item {position: relative;z-index: 1;}#sk-container-id-6 div.sk-parallel {display: flex;align-items: stretch;justify-content: center;background-color: white;position: relative;}#sk-container-id-6 div.sk-item::before, #sk-container-id-6 div.sk-parallel-item::before {content: \"\";position: absolute;border-left: 1px solid gray;box-sizing: border-box;top: 0;bottom: 0;left: 50%;z-index: -1;}#sk-container-id-6 div.sk-parallel-item {display: flex;flex-direction: column;z-index: 1;position: relative;background-color: white;}#sk-container-id-6 div.sk-parallel-item:first-child::after {align-self: flex-end;width: 50%;}#sk-container-id-6 div.sk-parallel-item:last-child::after {align-self: flex-start;width: 50%;}#sk-container-id-6 div.sk-parallel-item:only-child::after {width: 0;}#sk-container-id-6 div.sk-dashed-wrapped {border: 1px dashed gray;margin: 0 0.4em 0.5em 0.4em;box-sizing: border-box;padding-bottom: 0.4em;background-color: white;}#sk-container-id-6 div.sk-label label {font-family: monospace;font-weight: bold;display: inline-block;line-height: 1.2em;}#sk-container-id-6 div.sk-label-container {text-align: center;}#sk-container-id-6 div.sk-container {/* jupyter's `normalize.less` sets `[hidden] { display: none; }` but bootstrap.min.css set `[hidden] { display: none !important; }` so we also need the `!important` here to be able to override the default hidden behavior on the sphinx rendered scikit-learn.org. See: https://github.com/scikit-learn/scikit-learn/issues/21755 */display: inline-block !important;position: relative;}#sk-container-id-6 div.sk-text-repr-fallback {display: none;}</style><div id=\"sk-container-id-6\" class=\"sk-top-container\"><div class=\"sk-text-repr-fallback\"><pre>XGBClassifier(base_score=None, booster=None, callbacks=None,\n",
       "              colsample_bylevel=None, colsample_bynode=None,\n",
       "              colsample_bytree=None, early_stopping_rounds=None,\n",
       "              enable_categorical=False, eval_metric=None, feature_types=None,\n",
       "              gamma=None, gpu_id=None, grow_policy=None, importance_type=None,\n",
       "              interaction_constraints=None, learning_rate=None, max_bin=None,\n",
       "              max_cat_threshold=None, max_cat_to_onehot=None,\n",
       "              max_delta_step=None, max_depth=None, max_leaves=None,\n",
       "              min_child_weight=None, missing=nan, monotone_constraints=None,\n",
       "              n_estimators=100, n_jobs=None, num_parallel_tree=None,\n",
       "              predictor=None, random_state=None, ...)</pre><b>In a Jupyter environment, please rerun this cell to show the HTML representation or trust the notebook. <br />On GitHub, the HTML representation is unable to render, please try loading this page with nbviewer.org.</b></div><div class=\"sk-container\" hidden><div class=\"sk-item\"><div class=\"sk-estimator sk-toggleable\"><input class=\"sk-toggleable__control sk-hidden--visually\" id=\"sk-estimator-id-10\" type=\"checkbox\" checked><label for=\"sk-estimator-id-10\" class=\"sk-toggleable__label sk-toggleable__label-arrow\">XGBClassifier</label><div class=\"sk-toggleable__content\"><pre>XGBClassifier(base_score=None, booster=None, callbacks=None,\n",
       "              colsample_bylevel=None, colsample_bynode=None,\n",
       "              colsample_bytree=None, early_stopping_rounds=None,\n",
       "              enable_categorical=False, eval_metric=None, feature_types=None,\n",
       "              gamma=None, gpu_id=None, grow_policy=None, importance_type=None,\n",
       "              interaction_constraints=None, learning_rate=None, max_bin=None,\n",
       "              max_cat_threshold=None, max_cat_to_onehot=None,\n",
       "              max_delta_step=None, max_depth=None, max_leaves=None,\n",
       "              min_child_weight=None, missing=nan, monotone_constraints=None,\n",
       "              n_estimators=100, n_jobs=None, num_parallel_tree=None,\n",
       "              predictor=None, random_state=None, ...)</pre></div></div></div></div></div>"
      ],
      "text/plain": [
       "XGBClassifier(base_score=None, booster=None, callbacks=None,\n",
       "              colsample_bylevel=None, colsample_bynode=None,\n",
       "              colsample_bytree=None, early_stopping_rounds=None,\n",
       "              enable_categorical=False, eval_metric=None, feature_types=None,\n",
       "              gamma=None, gpu_id=None, grow_policy=None, importance_type=None,\n",
       "              interaction_constraints=None, learning_rate=None, max_bin=None,\n",
       "              max_cat_threshold=None, max_cat_to_onehot=None,\n",
       "              max_delta_step=None, max_depth=None, max_leaves=None,\n",
       "              min_child_weight=None, missing=nan, monotone_constraints=None,\n",
       "              n_estimators=100, n_jobs=None, num_parallel_tree=None,\n",
       "              predictor=None, random_state=None, ...)"
      ]
     },
     "execution_count": 72,
     "metadata": {},
     "output_type": "execute_result"
    }
   ],
   "source": [
    "# Train the base model\n",
    "model7.fit(X_train, y_train)"
   ]
  },
  {
   "cell_type": "code",
   "execution_count": 73,
   "id": "19da6937-f995-4234-aa3a-5344ff610687",
   "metadata": {},
   "outputs": [],
   "source": [
    "# Make predictions on the training set\n",
    "y_train_pred = model7.predict(X_train)"
   ]
  },
  {
   "cell_type": "code",
   "execution_count": 74,
   "id": "505f0356-bd26-457d-a6ae-313e5614d7bb",
   "metadata": {},
   "outputs": [],
   "source": [
    "# Calculate performance metrics on the training set\n",
    "train_acc1 = accuracy_score(y_train, y_train_pred)\n",
    "train_prec1 = precision_score(y_train, y_train_pred, average='macro')\n",
    "train_rec1 = recall_score(y_train, y_train_pred, average='macro')\n",
    "train_f1_1 = f1_score(y_train, y_train_pred, average='macro')"
   ]
  },
  {
   "cell_type": "code",
   "execution_count": 75,
   "id": "1ae7382b-a4f0-4d03-82a9-9387cabdc2b0",
   "metadata": {},
   "outputs": [],
   "source": [
    "# Make predictions on the validation set\n",
    "y_val_pred = model7.predict(X_val)"
   ]
  },
  {
   "cell_type": "code",
   "execution_count": 76,
   "id": "f583f0db-211f-4c91-af62-bccb3ac11947",
   "metadata": {},
   "outputs": [],
   "source": [
    "# Calculate performance metrics on the validation set\n",
    "val_acc1 = accuracy_score(y_val, y_val_pred)\n",
    "val_prec1 = precision_score(y_val, y_val_pred, average='macro')\n",
    "val_rec1 = recall_score(y_val, y_val_pred, average='macro')\n",
    "val_f1_1 = f1_score(y_val, y_val_pred, average='macro')"
   ]
  },
  {
   "cell_type": "code",
   "execution_count": 77,
   "id": "e8f04607-50a3-4111-b324-38b99f9e0121",
   "metadata": {},
   "outputs": [],
   "source": [
    "# Variation 2: Decreased learning_rate to 0.1 and max_depth to 5"
   ]
  },
  {
   "cell_type": "code",
   "execution_count": 78,
   "id": "1c87a080-f784-482f-ad06-cd6380453ef6",
   "metadata": {},
   "outputs": [],
   "source": [
    "# xgb_model2 = xgb.XGBClassifier(n_estimators=200, learning_rate=0.05, max_depth=5, subsample=0.7)"
   ]
  },
  {
   "cell_type": "code",
   "execution_count": 79,
   "id": "07e0af5b-fad8-4bf5-95a4-0e9719bbfcc2",
   "metadata": {},
   "outputs": [],
   "source": [
    "model8 = xgb.XGBClassifier(\n",
    "learning_rate =0.1,\n",
    " n_estimators=1000,\n",
    " max_depth=5,\n",
    " min_child_weight=1,\n",
    " gamma=0,\n",
    " subsample=0.8,\n",
    " colsample_bytree=0.8,\n",
    " objective= 'binary:logistic',\n",
    " nthread=4,\n",
    " scale_pos_weight=1,\n",
    " seed=27)"
   ]
  },
  {
   "cell_type": "code",
   "execution_count": 80,
   "id": "b5e4e806-09df-4008-8cb8-3efa0dc17b01",
   "metadata": {},
   "outputs": [
    {
     "data": {
      "text/html": [
       "<style>#sk-container-id-7 {color: black;background-color: white;}#sk-container-id-7 pre{padding: 0;}#sk-container-id-7 div.sk-toggleable {background-color: white;}#sk-container-id-7 label.sk-toggleable__label {cursor: pointer;display: block;width: 100%;margin-bottom: 0;padding: 0.3em;box-sizing: border-box;text-align: center;}#sk-container-id-7 label.sk-toggleable__label-arrow:before {content: \"▸\";float: left;margin-right: 0.25em;color: #696969;}#sk-container-id-7 label.sk-toggleable__label-arrow:hover:before {color: black;}#sk-container-id-7 div.sk-estimator:hover label.sk-toggleable__label-arrow:before {color: black;}#sk-container-id-7 div.sk-toggleable__content {max-height: 0;max-width: 0;overflow: hidden;text-align: left;background-color: #f0f8ff;}#sk-container-id-7 div.sk-toggleable__content pre {margin: 0.2em;color: black;border-radius: 0.25em;background-color: #f0f8ff;}#sk-container-id-7 input.sk-toggleable__control:checked~div.sk-toggleable__content {max-height: 200px;max-width: 100%;overflow: auto;}#sk-container-id-7 input.sk-toggleable__control:checked~label.sk-toggleable__label-arrow:before {content: \"▾\";}#sk-container-id-7 div.sk-estimator input.sk-toggleable__control:checked~label.sk-toggleable__label {background-color: #d4ebff;}#sk-container-id-7 div.sk-label input.sk-toggleable__control:checked~label.sk-toggleable__label {background-color: #d4ebff;}#sk-container-id-7 input.sk-hidden--visually {border: 0;clip: rect(1px 1px 1px 1px);clip: rect(1px, 1px, 1px, 1px);height: 1px;margin: -1px;overflow: hidden;padding: 0;position: absolute;width: 1px;}#sk-container-id-7 div.sk-estimator {font-family: monospace;background-color: #f0f8ff;border: 1px dotted black;border-radius: 0.25em;box-sizing: border-box;margin-bottom: 0.5em;}#sk-container-id-7 div.sk-estimator:hover {background-color: #d4ebff;}#sk-container-id-7 div.sk-parallel-item::after {content: \"\";width: 100%;border-bottom: 1px solid gray;flex-grow: 1;}#sk-container-id-7 div.sk-label:hover label.sk-toggleable__label {background-color: #d4ebff;}#sk-container-id-7 div.sk-serial::before {content: \"\";position: absolute;border-left: 1px solid gray;box-sizing: border-box;top: 0;bottom: 0;left: 50%;z-index: 0;}#sk-container-id-7 div.sk-serial {display: flex;flex-direction: column;align-items: center;background-color: white;padding-right: 0.2em;padding-left: 0.2em;position: relative;}#sk-container-id-7 div.sk-item {position: relative;z-index: 1;}#sk-container-id-7 div.sk-parallel {display: flex;align-items: stretch;justify-content: center;background-color: white;position: relative;}#sk-container-id-7 div.sk-item::before, #sk-container-id-7 div.sk-parallel-item::before {content: \"\";position: absolute;border-left: 1px solid gray;box-sizing: border-box;top: 0;bottom: 0;left: 50%;z-index: -1;}#sk-container-id-7 div.sk-parallel-item {display: flex;flex-direction: column;z-index: 1;position: relative;background-color: white;}#sk-container-id-7 div.sk-parallel-item:first-child::after {align-self: flex-end;width: 50%;}#sk-container-id-7 div.sk-parallel-item:last-child::after {align-self: flex-start;width: 50%;}#sk-container-id-7 div.sk-parallel-item:only-child::after {width: 0;}#sk-container-id-7 div.sk-dashed-wrapped {border: 1px dashed gray;margin: 0 0.4em 0.5em 0.4em;box-sizing: border-box;padding-bottom: 0.4em;background-color: white;}#sk-container-id-7 div.sk-label label {font-family: monospace;font-weight: bold;display: inline-block;line-height: 1.2em;}#sk-container-id-7 div.sk-label-container {text-align: center;}#sk-container-id-7 div.sk-container {/* jupyter's `normalize.less` sets `[hidden] { display: none; }` but bootstrap.min.css set `[hidden] { display: none !important; }` so we also need the `!important` here to be able to override the default hidden behavior on the sphinx rendered scikit-learn.org. See: https://github.com/scikit-learn/scikit-learn/issues/21755 */display: inline-block !important;position: relative;}#sk-container-id-7 div.sk-text-repr-fallback {display: none;}</style><div id=\"sk-container-id-7\" class=\"sk-top-container\"><div class=\"sk-text-repr-fallback\"><pre>XGBClassifier(base_score=None, booster=None, callbacks=None,\n",
       "              colsample_bylevel=None, colsample_bynode=None,\n",
       "              colsample_bytree=0.8, early_stopping_rounds=None,\n",
       "              enable_categorical=False, eval_metric=None, feature_types=None,\n",
       "              gamma=0, gpu_id=None, grow_policy=None, importance_type=None,\n",
       "              interaction_constraints=None, learning_rate=0.1, max_bin=None,\n",
       "              max_cat_threshold=None, max_cat_to_onehot=None,\n",
       "              max_delta_step=None, max_depth=5, max_leaves=None,\n",
       "              min_child_weight=1, missing=nan, monotone_constraints=None,\n",
       "              n_estimators=1000, n_jobs=None, nthread=4, num_parallel_tree=None,\n",
       "              predictor=None, ...)</pre><b>In a Jupyter environment, please rerun this cell to show the HTML representation or trust the notebook. <br />On GitHub, the HTML representation is unable to render, please try loading this page with nbviewer.org.</b></div><div class=\"sk-container\" hidden><div class=\"sk-item\"><div class=\"sk-estimator sk-toggleable\"><input class=\"sk-toggleable__control sk-hidden--visually\" id=\"sk-estimator-id-11\" type=\"checkbox\" checked><label for=\"sk-estimator-id-11\" class=\"sk-toggleable__label sk-toggleable__label-arrow\">XGBClassifier</label><div class=\"sk-toggleable__content\"><pre>XGBClassifier(base_score=None, booster=None, callbacks=None,\n",
       "              colsample_bylevel=None, colsample_bynode=None,\n",
       "              colsample_bytree=0.8, early_stopping_rounds=None,\n",
       "              enable_categorical=False, eval_metric=None, feature_types=None,\n",
       "              gamma=0, gpu_id=None, grow_policy=None, importance_type=None,\n",
       "              interaction_constraints=None, learning_rate=0.1, max_bin=None,\n",
       "              max_cat_threshold=None, max_cat_to_onehot=None,\n",
       "              max_delta_step=None, max_depth=5, max_leaves=None,\n",
       "              min_child_weight=1, missing=nan, monotone_constraints=None,\n",
       "              n_estimators=1000, n_jobs=None, nthread=4, num_parallel_tree=None,\n",
       "              predictor=None, ...)</pre></div></div></div></div></div>"
      ],
      "text/plain": [
       "XGBClassifier(base_score=None, booster=None, callbacks=None,\n",
       "              colsample_bylevel=None, colsample_bynode=None,\n",
       "              colsample_bytree=0.8, early_stopping_rounds=None,\n",
       "              enable_categorical=False, eval_metric=None, feature_types=None,\n",
       "              gamma=0, gpu_id=None, grow_policy=None, importance_type=None,\n",
       "              interaction_constraints=None, learning_rate=0.1, max_bin=None,\n",
       "              max_cat_threshold=None, max_cat_to_onehot=None,\n",
       "              max_delta_step=None, max_depth=5, max_leaves=None,\n",
       "              min_child_weight=1, missing=nan, monotone_constraints=None,\n",
       "              n_estimators=1000, n_jobs=None, nthread=4, num_parallel_tree=None,\n",
       "              predictor=None, ...)"
      ]
     },
     "execution_count": 80,
     "metadata": {},
     "output_type": "execute_result"
    }
   ],
   "source": [
    "# Train the model\n",
    "model8.fit(X_train, y_train)"
   ]
  },
  {
   "cell_type": "code",
   "execution_count": 81,
   "id": "ec3d73c5-62e0-49e9-9f73-8a28fb83e177",
   "metadata": {},
   "outputs": [],
   "source": [
    "# Make predictions on the training set\n",
    "y_train_pred2 = model8.predict(X_train)"
   ]
  },
  {
   "cell_type": "code",
   "execution_count": 82,
   "id": "b8386c3c-9e14-45c2-8c9e-f0b700b4bca4",
   "metadata": {},
   "outputs": [],
   "source": [
    "# Calculate performance metrics on the training set\n",
    "train_acc2 = accuracy_score(y_train, y_train_pred2)\n",
    "train_prec2 = precision_score(y_train, y_train_pred2, average='macro')\n",
    "train_rec2 = recall_score(y_train, y_train_pred2, average='macro')\n",
    "train_f1_2 = f1_score(y_train, y_train_pred2, average='macro')"
   ]
  },
  {
   "cell_type": "code",
   "execution_count": 83,
   "id": "c2580856-e006-4051-b76e-d5aa35ed10a6",
   "metadata": {},
   "outputs": [],
   "source": [
    "# Make predictions on the validation set\n",
    "y_val_pred2 = model8.predict(X_val)"
   ]
  },
  {
   "cell_type": "code",
   "execution_count": 84,
   "id": "42ed6709-cdc3-441b-a0b4-b93ca4ee4c23",
   "metadata": {},
   "outputs": [],
   "source": [
    "# Calculate performance metrics on the validation set\n",
    "val_acc2 = accuracy_score(y_val, y_val_pred2)\n",
    "val_prec2 = precision_score(y_val, y_val_pred2, average='macro')\n",
    "val_rec2 = recall_score(y_val, y_val_pred2, average='macro')\n",
    "val_f1_2 = f1_score(y_val, y_val_pred2, average='macro')"
   ]
  },
  {
   "cell_type": "code",
   "execution_count": 85,
   "id": "e94dbb98-e8ad-45e6-bfcb-fc11e1b57c08",
   "metadata": {},
   "outputs": [],
   "source": [
    "# Variation 3: Decreased n_estimators and max_depths"
   ]
  },
  {
   "cell_type": "code",
   "execution_count": 86,
   "id": "3733e0bc-d413-4495-95a3-f5ae79bf301c",
   "metadata": {},
   "outputs": [],
   "source": [
    "from sklearn.model_selection import GridSearchCV\n",
    "from xgboost import XGBClassifier\n",
    "\n",
    "\n",
    "model9 = XGBClassifier(learning_rate =0.1, n_estimators=140, max_depth=3,\n",
    "                         min_child_weight=1, gamma=0, subsample=0.8, colsample_bytree=0.8,\n",
    "                         objective= 'binary:logistic', nthread=4, scale_pos_weight=1, random_state=42)"
   ]
  },
  {
   "cell_type": "code",
   "execution_count": 87,
   "id": "49f4010c-95ca-4875-b76f-42a0d93298f6",
   "metadata": {},
   "outputs": [
    {
     "data": {
      "text/html": [
       "<style>#sk-container-id-8 {color: black;background-color: white;}#sk-container-id-8 pre{padding: 0;}#sk-container-id-8 div.sk-toggleable {background-color: white;}#sk-container-id-8 label.sk-toggleable__label {cursor: pointer;display: block;width: 100%;margin-bottom: 0;padding: 0.3em;box-sizing: border-box;text-align: center;}#sk-container-id-8 label.sk-toggleable__label-arrow:before {content: \"▸\";float: left;margin-right: 0.25em;color: #696969;}#sk-container-id-8 label.sk-toggleable__label-arrow:hover:before {color: black;}#sk-container-id-8 div.sk-estimator:hover label.sk-toggleable__label-arrow:before {color: black;}#sk-container-id-8 div.sk-toggleable__content {max-height: 0;max-width: 0;overflow: hidden;text-align: left;background-color: #f0f8ff;}#sk-container-id-8 div.sk-toggleable__content pre {margin: 0.2em;color: black;border-radius: 0.25em;background-color: #f0f8ff;}#sk-container-id-8 input.sk-toggleable__control:checked~div.sk-toggleable__content {max-height: 200px;max-width: 100%;overflow: auto;}#sk-container-id-8 input.sk-toggleable__control:checked~label.sk-toggleable__label-arrow:before {content: \"▾\";}#sk-container-id-8 div.sk-estimator input.sk-toggleable__control:checked~label.sk-toggleable__label {background-color: #d4ebff;}#sk-container-id-8 div.sk-label input.sk-toggleable__control:checked~label.sk-toggleable__label {background-color: #d4ebff;}#sk-container-id-8 input.sk-hidden--visually {border: 0;clip: rect(1px 1px 1px 1px);clip: rect(1px, 1px, 1px, 1px);height: 1px;margin: -1px;overflow: hidden;padding: 0;position: absolute;width: 1px;}#sk-container-id-8 div.sk-estimator {font-family: monospace;background-color: #f0f8ff;border: 1px dotted black;border-radius: 0.25em;box-sizing: border-box;margin-bottom: 0.5em;}#sk-container-id-8 div.sk-estimator:hover {background-color: #d4ebff;}#sk-container-id-8 div.sk-parallel-item::after {content: \"\";width: 100%;border-bottom: 1px solid gray;flex-grow: 1;}#sk-container-id-8 div.sk-label:hover label.sk-toggleable__label {background-color: #d4ebff;}#sk-container-id-8 div.sk-serial::before {content: \"\";position: absolute;border-left: 1px solid gray;box-sizing: border-box;top: 0;bottom: 0;left: 50%;z-index: 0;}#sk-container-id-8 div.sk-serial {display: flex;flex-direction: column;align-items: center;background-color: white;padding-right: 0.2em;padding-left: 0.2em;position: relative;}#sk-container-id-8 div.sk-item {position: relative;z-index: 1;}#sk-container-id-8 div.sk-parallel {display: flex;align-items: stretch;justify-content: center;background-color: white;position: relative;}#sk-container-id-8 div.sk-item::before, #sk-container-id-8 div.sk-parallel-item::before {content: \"\";position: absolute;border-left: 1px solid gray;box-sizing: border-box;top: 0;bottom: 0;left: 50%;z-index: -1;}#sk-container-id-8 div.sk-parallel-item {display: flex;flex-direction: column;z-index: 1;position: relative;background-color: white;}#sk-container-id-8 div.sk-parallel-item:first-child::after {align-self: flex-end;width: 50%;}#sk-container-id-8 div.sk-parallel-item:last-child::after {align-self: flex-start;width: 50%;}#sk-container-id-8 div.sk-parallel-item:only-child::after {width: 0;}#sk-container-id-8 div.sk-dashed-wrapped {border: 1px dashed gray;margin: 0 0.4em 0.5em 0.4em;box-sizing: border-box;padding-bottom: 0.4em;background-color: white;}#sk-container-id-8 div.sk-label label {font-family: monospace;font-weight: bold;display: inline-block;line-height: 1.2em;}#sk-container-id-8 div.sk-label-container {text-align: center;}#sk-container-id-8 div.sk-container {/* jupyter's `normalize.less` sets `[hidden] { display: none; }` but bootstrap.min.css set `[hidden] { display: none !important; }` so we also need the `!important` here to be able to override the default hidden behavior on the sphinx rendered scikit-learn.org. See: https://github.com/scikit-learn/scikit-learn/issues/21755 */display: inline-block !important;position: relative;}#sk-container-id-8 div.sk-text-repr-fallback {display: none;}</style><div id=\"sk-container-id-8\" class=\"sk-top-container\"><div class=\"sk-text-repr-fallback\"><pre>XGBClassifier(base_score=None, booster=None, callbacks=None,\n",
       "              colsample_bylevel=None, colsample_bynode=None,\n",
       "              colsample_bytree=0.8, early_stopping_rounds=None,\n",
       "              enable_categorical=False, eval_metric=None, feature_types=None,\n",
       "              gamma=0, gpu_id=None, grow_policy=None, importance_type=None,\n",
       "              interaction_constraints=None, learning_rate=0.1, max_bin=None,\n",
       "              max_cat_threshold=None, max_cat_to_onehot=None,\n",
       "              max_delta_step=None, max_depth=3, max_leaves=None,\n",
       "              min_child_weight=1, missing=nan, monotone_constraints=None,\n",
       "              n_estimators=140, n_jobs=None, nthread=4, num_parallel_tree=None,\n",
       "              predictor=None, ...)</pre><b>In a Jupyter environment, please rerun this cell to show the HTML representation or trust the notebook. <br />On GitHub, the HTML representation is unable to render, please try loading this page with nbviewer.org.</b></div><div class=\"sk-container\" hidden><div class=\"sk-item\"><div class=\"sk-estimator sk-toggleable\"><input class=\"sk-toggleable__control sk-hidden--visually\" id=\"sk-estimator-id-12\" type=\"checkbox\" checked><label for=\"sk-estimator-id-12\" class=\"sk-toggleable__label sk-toggleable__label-arrow\">XGBClassifier</label><div class=\"sk-toggleable__content\"><pre>XGBClassifier(base_score=None, booster=None, callbacks=None,\n",
       "              colsample_bylevel=None, colsample_bynode=None,\n",
       "              colsample_bytree=0.8, early_stopping_rounds=None,\n",
       "              enable_categorical=False, eval_metric=None, feature_types=None,\n",
       "              gamma=0, gpu_id=None, grow_policy=None, importance_type=None,\n",
       "              interaction_constraints=None, learning_rate=0.1, max_bin=None,\n",
       "              max_cat_threshold=None, max_cat_to_onehot=None,\n",
       "              max_delta_step=None, max_depth=3, max_leaves=None,\n",
       "              min_child_weight=1, missing=nan, monotone_constraints=None,\n",
       "              n_estimators=140, n_jobs=None, nthread=4, num_parallel_tree=None,\n",
       "              predictor=None, ...)</pre></div></div></div></div></div>"
      ],
      "text/plain": [
       "XGBClassifier(base_score=None, booster=None, callbacks=None,\n",
       "              colsample_bylevel=None, colsample_bynode=None,\n",
       "              colsample_bytree=0.8, early_stopping_rounds=None,\n",
       "              enable_categorical=False, eval_metric=None, feature_types=None,\n",
       "              gamma=0, gpu_id=None, grow_policy=None, importance_type=None,\n",
       "              interaction_constraints=None, learning_rate=0.1, max_bin=None,\n",
       "              max_cat_threshold=None, max_cat_to_onehot=None,\n",
       "              max_delta_step=None, max_depth=3, max_leaves=None,\n",
       "              min_child_weight=1, missing=nan, monotone_constraints=None,\n",
       "              n_estimators=140, n_jobs=None, nthread=4, num_parallel_tree=None,\n",
       "              predictor=None, ...)"
      ]
     },
     "execution_count": 87,
     "metadata": {},
     "output_type": "execute_result"
    }
   ],
   "source": [
    "# train the model\n",
    "model9.fit(X_train, y_train)"
   ]
  },
  {
   "cell_type": "code",
   "execution_count": 88,
   "id": "4c1ec201-9021-47ca-8eb4-38bb79b12011",
   "metadata": {},
   "outputs": [],
   "source": [
    "# Make predictions on the training set\n",
    "y_train_pred3 = model9.predict(X_train)"
   ]
  },
  {
   "cell_type": "code",
   "execution_count": 89,
   "id": "5c3fb229-9e6c-415e-b522-188c01f141e6",
   "metadata": {},
   "outputs": [],
   "source": [
    "# Calculate performance metrics on the training set\n",
    "train_acc3 = accuracy_score(y_train, y_train_pred3)\n",
    "train_prec3 = precision_score(y_train, y_train_pred3, average='macro')\n",
    "train_rec3 = recall_score(y_train, y_train_pred3, average='macro')\n",
    "train_f1_3 = f1_score(y_train, y_train_pred3, average='macro')"
   ]
  },
  {
   "cell_type": "code",
   "execution_count": 90,
   "id": "3250ca0e-cb66-44bf-bba8-7f738ca40637",
   "metadata": {},
   "outputs": [],
   "source": [
    "# Make predictions on the validation set\n",
    "y_val_pred3 = model9.predict(X_val)"
   ]
  },
  {
   "cell_type": "code",
   "execution_count": 91,
   "id": "408afe73-5c02-4b14-8aba-ca3320157926",
   "metadata": {},
   "outputs": [],
   "source": [
    "# Calculate performance metrics on the validation set\n",
    "val_acc3 = accuracy_score(y_val, y_val_pred3)\n",
    "val_prec3 = precision_score(y_val, y_val_pred3, average='macro')\n",
    "val_rec3 = recall_score(y_val, y_val_pred3, average='macro')\n",
    "val_f1_3 = f1_score(y_val, y_val_pred3, average='macro')"
   ]
  },
  {
   "cell_type": "code",
   "execution_count": 92,
   "id": "60a4ff9b-ffb9-473c-8809-7851b3d67e07",
   "metadata": {},
   "outputs": [
    {
     "name": "stdout",
     "output_type": "stream",
     "text": [
      "                                                    Train Accuracy  \\\n",
      "Model                                                                \n",
      "Default hyperparameters                                   0.965000   \n",
      "Decreased learning_rate and max_depth                     0.998437   \n",
      "Increased min_child_weight and Decreased more i...        0.878594   \n",
      "\n",
      "                                                    Train Precision  \\\n",
      "Model                                                                 \n",
      "Default hyperparameters                                    0.969479   \n",
      "Decreased learning_rate and max_depth                      0.999018   \n",
      "Increased min_child_weight and Decreased more i...         0.858901   \n",
      "\n",
      "                                                    Train Recall  \\\n",
      "Model                                                              \n",
      "Default hyperparameters                                 0.922553   \n",
      "Decreased learning_rate and max_depth                   0.996203   \n",
      "Increased min_child_weight and Decreased more i...      0.743266   \n",
      "\n",
      "                                                    Train F1-Score  \\\n",
      "Model                                                                \n",
      "Default hyperparameters                                   0.943710   \n",
      "Decreased learning_rate and max_depth                     0.997603   \n",
      "Increased min_child_weight and Decreased more i...        0.781113   \n",
      "\n",
      "                                                    Validation Accuracy  \\\n",
      "Model                                                                     \n",
      "Default hyperparameters                                        0.860000   \n",
      "Decreased learning_rate and max_depth                          0.851250   \n",
      "Increased min_child_weight and Decreased more i...             0.864375   \n",
      "\n",
      "                                                    Validation Precision  \\\n",
      "Model                                                                      \n",
      "Default hyperparameters                                         0.804441   \n",
      "Decreased learning_rate and max_depth                           0.783214   \n",
      "Increased min_child_weight and Decreased more i...              0.824980   \n",
      "\n",
      "                                                    Validation Recall  \\\n",
      "Model                                                                   \n",
      "Default hyperparameters                                      0.727942   \n",
      "Decreased learning_rate and max_depth                        0.721307   \n",
      "Increased min_child_weight and Decreased more i...           0.720465   \n",
      "\n",
      "                                                    Validation F1-Score  \n",
      "Model                                                                    \n",
      "Default hyperparameters                                        0.755506  \n",
      "Decreased learning_rate and max_depth                          0.744574  \n",
      "Increased min_child_weight and Decreased more i...             0.754275  \n"
     ]
    }
   ],
   "source": [
    "# Create a table to compare the performance metrics of the three models\n",
    "table = pd.DataFrame({\n",
    "    'Model': ['Default hyperparameters', \n",
    "              'Decreased learning_rate and max_depth', \n",
    "              'Increased min_child_weight and Decreased more in max_depth'],\n",
    "    'Train Accuracy': [train_acc1, train_acc2, train_acc3],\n",
    "    'Train Precision': [train_prec1, train_prec2, train_prec3],\n",
    "    'Train Recall': [train_rec1, train_rec2, train_rec3],\n",
    "    'Train F1-Score': [train_f1_1, train_f1_2, train_f1_3],\n",
    "    'Validation Accuracy': [val_acc1, val_acc2, val_acc3],\n",
    "    'Validation Precision': [val_prec1, val_prec2, val_prec3],\n",
    "    'Validation Recall': [val_rec1, val_rec2, val_rec3],\n",
    "    'Validation F1-Score': [val_f1_1, val_f1_2, val_f1_3]\n",
    "})\n",
    "\n",
    "# Set the model column as the index\n",
    "table.set_index('Model', inplace=True)\n",
    "\n",
    "# Print the table\n",
    "print(table)"
   ]
  },
  {
   "cell_type": "code",
   "execution_count": 93,
   "id": "1b676aa5-6e96-40f7-b5ca-34d751eed705",
   "metadata": {},
   "outputs": [],
   "source": [
    "# week 9"
   ]
  },
  {
   "cell_type": "code",
   "execution_count": 94,
   "id": "f420977a-4834-4489-ae56-c5e0aa376ab3",
   "metadata": {},
   "outputs": [
    {
     "name": "stdout",
     "output_type": "stream",
     "text": [
      "LogisticRegression Validation Error: 0.2106\n",
      "LogisticRegression Validation Error: 0.1887\n",
      "LogisticRegression Validation Error: 0.2106\n",
      "RandomForestClassifier Validation Error: 0.1394\n",
      "RandomForestClassifier Validation Error: 0.1369\n",
      "RandomForestClassifier Validation Error: 0.1687\n",
      "XGBClassifier Validation Error: 0.1400\n",
      "XGBClassifier Validation Error: 0.1488\n",
      "XGBClassifier Validation Error: 0.1356\n"
     ]
    }
   ],
   "source": [
    "from sklearn.metrics import accuracy_score\n",
    "from sklearn import model_selection\n",
    "\n",
    "np.random.seed(42)\n",
    "\n",
    "# Define a list of models of varying complexity\n",
    "models = [model1, model2, model3, model4, model5, model6, model7, model8, model9]\n",
    "\n",
    "# Train the models and calculate their accuracy on the validation set\n",
    "train_errors = []\n",
    "val_errors = []\n",
    "model_names = []\n",
    "for model in models:\n",
    "    model.fit(X_train, y_train)\n",
    "    y_pred_train = model.predict(X_train)\n",
    "    y_pred_val = model.predict(X_val)\n",
    "    train_error = 1 - accuracy_score(y_train, y_pred_train)\n",
    "    val_error = 1 - accuracy_score(y_val, y_pred_val)\n",
    "    train_errors.append(train_error)\n",
    "    val_errors.append(val_error)\n",
    "    model_names.append(type(model).__name__)\n",
    "    print(f\"{type(model).__name__} Validation Error: {val_error:.4f}\")\n"
   ]
  },
  {
   "cell_type": "code",
   "execution_count": 95,
   "id": "e40a28de-0c84-41e6-b409-10654ff000bc",
   "metadata": {},
   "outputs": [
    {
     "data": {
      "image/png": "[encoded data removed]",
      "text/plain": [
       "<Figure size 640x480 with 1 Axes>"
      ]
     },
     "metadata": {},
     "output_type": "display_data"
    }
   ],
   "source": [
    "# Plot the bias-variance tradeoff chart for all models\n",
    "x_values = range(1, len(models) + 1)\n",
    "plt.plot(x_values, train_errors, label='Train Error')\n",
    "plt.plot(x_values, val_errors, label='Validation Error')\n",
    "plt.plot(x_values, np.add(train_errors, val_errors), label='Total Error')\n",
    "plt.xticks(x_values, model_names, rotation=45, ha='right')\n",
    "plt.xlabel('Models')\n",
    "plt.ylabel('Error')\n",
    "plt.legend()\n",
    "plt.tight_layout()\n",
    "plt.show()"
   ]
  },
  {
   "cell_type": "code",
   "execution_count": 96,
   "id": "23f91f05-448b-48e7-970b-870fd32f22b5",
   "metadata": {},
   "outputs": [],
   "source": [
    "# Calculate model performance metrics for the final selected model using the test dataset"
   ]
  },
  {
   "cell_type": "code",
   "execution_count": 97,
   "id": "841f87d2-722e-4a6a-8258-23ad70588cd1",
   "metadata": {},
   "outputs": [
    {
     "data": {
      "text/html": [
       "<style>#sk-container-id-9 {color: black;background-color: white;}#sk-container-id-9 pre{padding: 0;}#sk-container-id-9 div.sk-toggleable {background-color: white;}#sk-container-id-9 label.sk-toggleable__label {cursor: pointer;display: block;width: 100%;margin-bottom: 0;padding: 0.3em;box-sizing: border-box;text-align: center;}#sk-container-id-9 label.sk-toggleable__label-arrow:before {content: \"▸\";float: left;margin-right: 0.25em;color: #696969;}#sk-container-id-9 label.sk-toggleable__label-arrow:hover:before {color: black;}#sk-container-id-9 div.sk-estimator:hover label.sk-toggleable__label-arrow:before {color: black;}#sk-container-id-9 div.sk-toggleable__content {max-height: 0;max-width: 0;overflow: hidden;text-align: left;background-color: #f0f8ff;}#sk-container-id-9 div.sk-toggleable__content pre {margin: 0.2em;color: black;border-radius: 0.25em;background-color: #f0f8ff;}#sk-container-id-9 input.sk-toggleable__control:checked~div.sk-toggleable__content {max-height: 200px;max-width: 100%;overflow: auto;}#sk-container-id-9 input.sk-toggleable__control:checked~label.sk-toggleable__label-arrow:before {content: \"▾\";}#sk-container-id-9 div.sk-estimator input.sk-toggleable__control:checked~label.sk-toggleable__label {background-color: #d4ebff;}#sk-container-id-9 div.sk-label input.sk-toggleable__control:checked~label.sk-toggleable__label {background-color: #d4ebff;}#sk-container-id-9 input.sk-hidden--visually {border: 0;clip: rect(1px 1px 1px 1px);clip: rect(1px, 1px, 1px, 1px);height: 1px;margin: -1px;overflow: hidden;padding: 0;position: absolute;width: 1px;}#sk-container-id-9 div.sk-estimator {font-family: monospace;background-color: #f0f8ff;border: 1px dotted black;border-radius: 0.25em;box-sizing: border-box;margin-bottom: 0.5em;}#sk-container-id-9 div.sk-estimator:hover {background-color: #d4ebff;}#sk-container-id-9 div.sk-parallel-item::after {content: \"\";width: 100%;border-bottom: 1px solid gray;flex-grow: 1;}#sk-container-id-9 div.sk-label:hover label.sk-toggleable__label {background-color: #d4ebff;}#sk-container-id-9 div.sk-serial::before {content: \"\";position: absolute;border-left: 1px solid gray;box-sizing: border-box;top: 0;bottom: 0;left: 50%;z-index: 0;}#sk-container-id-9 div.sk-serial {display: flex;flex-direction: column;align-items: center;background-color: white;padding-right: 0.2em;padding-left: 0.2em;position: relative;}#sk-container-id-9 div.sk-item {position: relative;z-index: 1;}#sk-container-id-9 div.sk-parallel {display: flex;align-items: stretch;justify-content: center;background-color: white;position: relative;}#sk-container-id-9 div.sk-item::before, #sk-container-id-9 div.sk-parallel-item::before {content: \"\";position: absolute;border-left: 1px solid gray;box-sizing: border-box;top: 0;bottom: 0;left: 50%;z-index: -1;}#sk-container-id-9 div.sk-parallel-item {display: flex;flex-direction: column;z-index: 1;position: relative;background-color: white;}#sk-container-id-9 div.sk-parallel-item:first-child::after {align-self: flex-end;width: 50%;}#sk-container-id-9 div.sk-parallel-item:last-child::after {align-self: flex-start;width: 50%;}#sk-container-id-9 div.sk-parallel-item:only-child::after {width: 0;}#sk-container-id-9 div.sk-dashed-wrapped {border: 1px dashed gray;margin: 0 0.4em 0.5em 0.4em;box-sizing: border-box;padding-bottom: 0.4em;background-color: white;}#sk-container-id-9 div.sk-label label {font-family: monospace;font-weight: bold;display: inline-block;line-height: 1.2em;}#sk-container-id-9 div.sk-label-container {text-align: center;}#sk-container-id-9 div.sk-container {/* jupyter's `normalize.less` sets `[hidden] { display: none; }` but bootstrap.min.css set `[hidden] { display: none !important; }` so we also need the `!important` here to be able to override the default hidden behavior on the sphinx rendered scikit-learn.org. See: https://github.com/scikit-learn/scikit-learn/issues/21755 */display: inline-block !important;position: relative;}#sk-container-id-9 div.sk-text-repr-fallback {display: none;}</style><div id=\"sk-container-id-9\" class=\"sk-top-container\"><div class=\"sk-text-repr-fallback\"><pre>XGBClassifier(base_score=None, booster=None, callbacks=None,\n",
       "              colsample_bylevel=None, colsample_bynode=None,\n",
       "              colsample_bytree=0.8, early_stopping_rounds=None,\n",
       "              enable_categorical=False, eval_metric=None, feature_types=None,\n",
       "              gamma=0, gpu_id=None, grow_policy=None, importance_type=None,\n",
       "              interaction_constraints=None, learning_rate=0.1, max_bin=None,\n",
       "              max_cat_threshold=None, max_cat_to_onehot=None,\n",
       "              max_delta_step=None, max_depth=3, max_leaves=None,\n",
       "              min_child_weight=1, missing=nan, monotone_constraints=None,\n",
       "              n_estimators=140, n_jobs=None, nthread=4, num_parallel_tree=None,\n",
       "              predictor=None, ...)</pre><b>In a Jupyter environment, please rerun this cell to show the HTML representation or trust the notebook. <br />On GitHub, the HTML representation is unable to render, please try loading this page with nbviewer.org.</b></div><div class=\"sk-container\" hidden><div class=\"sk-item\"><div class=\"sk-estimator sk-toggleable\"><input class=\"sk-toggleable__control sk-hidden--visually\" id=\"sk-estimator-id-13\" type=\"checkbox\" checked><label for=\"sk-estimator-id-13\" class=\"sk-toggleable__label sk-toggleable__label-arrow\">XGBClassifier</label><div class=\"sk-toggleable__content\"><pre>XGBClassifier(base_score=None, booster=None, callbacks=None,\n",
       "              colsample_bylevel=None, colsample_bynode=None,\n",
       "              colsample_bytree=0.8, early_stopping_rounds=None,\n",
       "              enable_categorical=False, eval_metric=None, feature_types=None,\n",
       "              gamma=0, gpu_id=None, grow_policy=None, importance_type=None,\n",
       "              interaction_constraints=None, learning_rate=0.1, max_bin=None,\n",
       "              max_cat_threshold=None, max_cat_to_onehot=None,\n",
       "              max_delta_step=None, max_depth=3, max_leaves=None,\n",
       "              min_child_weight=1, missing=nan, monotone_constraints=None,\n",
       "              n_estimators=140, n_jobs=None, nthread=4, num_parallel_tree=None,\n",
       "              predictor=None, ...)</pre></div></div></div></div></div>"
      ],
      "text/plain": [
       "XGBClassifier(base_score=None, booster=None, callbacks=None,\n",
       "              colsample_bylevel=None, colsample_bynode=None,\n",
       "              colsample_bytree=0.8, early_stopping_rounds=None,\n",
       "              enable_categorical=False, eval_metric=None, feature_types=None,\n",
       "              gamma=0, gpu_id=None, grow_policy=None, importance_type=None,\n",
       "              interaction_constraints=None, learning_rate=0.1, max_bin=None,\n",
       "              max_cat_threshold=None, max_cat_to_onehot=None,\n",
       "              max_delta_step=None, max_depth=3, max_leaves=None,\n",
       "              min_child_weight=1, missing=nan, monotone_constraints=None,\n",
       "              n_estimators=140, n_jobs=None, nthread=4, num_parallel_tree=None,\n",
       "              predictor=None, ...)"
      ]
     },
     "execution_count": 97,
     "metadata": {},
     "output_type": "execute_result"
    }
   ],
   "source": [
    "# Train the models on the full training dataset\n",
    "model4.fit(X_train, y_train)\n",
    "model9.fit(X_train, y_train)"
   ]
  },
  {
   "cell_type": "code",
   "execution_count": 98,
   "id": "93645442-75c2-4f8f-8a71-b64b2bc8df6c",
   "metadata": {},
   "outputs": [],
   "source": [
    "# Test the models on the test dataset\n",
    "rf_y_pred = model4.predict(X_test)\n",
    "xgb_y_pred = model9.predict(X_test)"
   ]
  },
  {
   "cell_type": "code",
   "execution_count": 99,
   "id": "22b6da07-d2d9-4cfd-b0fe-a22e61ac5ec5",
   "metadata": {},
   "outputs": [
    {
     "name": "stdout",
     "output_type": "stream",
     "text": [
      "Random Forest:\n",
      "Accuracy: 0.863\n",
      "Precision: 0.7370517928286853\n",
      "Recall: 0.4707379134860051\n",
      "F1 Score: 0.5745341614906833\n",
      "XGBoost:\n",
      "Accuracy: 0.8615\n",
      "Precision: 0.7265625\n",
      "Recall: 0.4732824427480916\n",
      "F1 Score: 0.5731895223420647\n"
     ]
    }
   ],
   "source": [
    "# Calculate and print the performance metrics of the models on the test dataset\n",
    "rf_accuracy = accuracy_score(y_test, rf_y_pred)\n",
    "rf_precision = precision_score(y_test, rf_y_pred)\n",
    "rf_recall = recall_score(y_test, rf_y_pred)\n",
    "rf_f1 = f1_score(y_test, rf_y_pred)\n",
    "\n",
    "xgb_accuracy = accuracy_score(y_test, xgb_y_pred)\n",
    "xgb_precision = precision_score(y_test, xgb_y_pred)\n",
    "xgb_recall = recall_score(y_test, xgb_y_pred)\n",
    "xgb_f1 = f1_score(y_test, xgb_y_pred)\n",
    "\n",
    "print(\"Random Forest:\")\n",
    "print(\"Accuracy:\", rf_accuracy)\n",
    "print(\"Precision:\", rf_precision)\n",
    "print(\"Recall:\", rf_recall)\n",
    "print(\"F1 Score:\", rf_f1)\n",
    "\n",
    "print(\"XGBoost:\")\n",
    "print(\"Accuracy:\",xgb_accuracy )\n",
    "print(\"Precision:\", xgb_precision)\n",
    "print(\"Recall:\", xgb_recall)\n",
    "print(\"F1 Score:\", xgb_f1)"
   ]
  },
  {
   "cell_type": "code",
   "execution_count": 100,
   "id": "c5119e53-4dde-4a3c-b031-da49e102df27",
   "metadata": {},
   "outputs": [
    {
     "name": "stdout",
     "output_type": "stream",
     "text": [
      "Performance Metrics:\n",
      "| Metric        | Training Set | Validation Set | Test Set |\n",
      "|---------------|--------------|----------------|----------|\n",
      "| Accuracy      | 0.8786       | 0.8644         | 0.8615   |\n",
      "| Precision     | 0.8325       | 0.7723         | 0.7266   |\n",
      "| Recall        | 0.5133       | 0.4771         | 0.4733   |\n",
      "| F1 Score      | 0.6350       | 0.5898         | 0.5732   |\n",
      "| ROC AUC Score | 0.7433       | 0.7205         | 0.7149   |\n"
     ]
    }
   ],
   "source": [
    "# Make predictions on the training, validation, and test sets\n",
    "y_pred_train = model9.predict(X_train)\n",
    "y_pred_val = model9.predict(X_val)\n",
    "y_pred_test = model9.predict(X_test)\n",
    "\n",
    "# Calculate the performance metrics for the training set\n",
    "train_acc = accuracy_score(y_train, y_pred_train)\n",
    "train_prec = precision_score(y_train, y_pred_train)\n",
    "train_rec = recall_score(y_train, y_pred_train)\n",
    "train_f1 = f1_score(y_train, y_pred_train)\n",
    "train_auc = roc_auc_score(y_train, y_pred_train)\n",
    "\n",
    "# Calculate the performance metrics for the validation set\n",
    "val_acc = accuracy_score(y_val, y_pred_val)\n",
    "val_prec = precision_score(y_val, y_pred_val)\n",
    "val_rec = recall_score(y_val, y_pred_val)\n",
    "val_f1 = f1_score(y_val, y_pred_val)\n",
    "val_auc = roc_auc_score(y_val, y_pred_val)\n",
    "\n",
    "# Calculate the performance metrics for the test set\n",
    "test_acc = accuracy_score(y_test, y_pred_test)\n",
    "test_prec = precision_score(y_test, y_pred_test)\n",
    "test_rec = recall_score(y_test, y_pred_test)\n",
    "test_f1 = f1_score(y_test, y_pred_test)\n",
    "test_auc = roc_auc_score(y_test, y_pred_test)\n",
    "\n",
    "# Print the performance metrics for all three sets\n",
    "print(\"Performance Metrics:\")\n",
    "print(\"| Metric        | Training Set | Validation Set | Test Set |\")\n",
    "print(\"|---------------|--------------|----------------|----------|\")\n",
    "print(f\"| Accuracy      | {train_acc:.4f}       | {val_acc:.4f}         | {test_acc:.4f}   |\")\n",
    "print(f\"| Precision     | {train_prec:.4f}       | {val_prec:.4f}         | {test_prec:.4f}   |\")\n",
    "print(f\"| Recall        | {train_rec:.4f}       | {val_rec:.4f}         | {test_rec:.4f}   |\")\n",
    "print(f\"| F1 Score      | {train_f1:.4f}       | {val_f1:.4f}         | {test_f1:.4f}   |\")\n",
    "print(f\"| ROC AUC Score | {train_auc:.4f}       | {val_auc:.4f}         | {test_auc:.4f}   |\")\n"
   ]
  },
  {
   "cell_type": "code",
   "execution_count": 101,
   "id": "97aa4514-74a4-44ad-90db-d0c8101b7958",
   "metadata": {},
   "outputs": [],
   "source": [
    "# week 10"
   ]
  },
  {
   "cell_type": "code",
   "execution_count": 102,
   "id": "f125b4f8-e8d3-4fd0-bc56-99215bdce21e",
   "metadata": {},
   "outputs": [],
   "source": [
    "from sklearn.preprocessing import PowerTransformer\n",
    "import seaborn as sns"
   ]
  },
  {
   "cell_type": "code",
   "execution_count": 103,
   "id": "b8cdd82a-4fc5-4320-84bb-d8d0827b4195",
   "metadata": {},
   "outputs": [],
   "source": [
    "# 1. PCA"
   ]
  },
  {
   "cell_type": "code",
   "execution_count": 104,
   "id": "858c7a9b-f89d-4750-9f1c-82c89ade4c18",
   "metadata": {},
   "outputs": [
    {
     "name": "stdout",
     "output_type": "stream",
     "text": [
      "Training set: Accuracy: 0.8796875, Recall: 0.5292331055429005, Precision: 0.8229043683589138\n",
      "Validation set: Accuracy: 0.858125, Recall: 0.46788990825688076, Precision: 0.7427184466019418\n",
      "Test set: Accuracy: 0.8625, Recall: 0.48854961832061067, Precision: 0.7218045112781954\n"
     ]
    }
   ],
   "source": [
    "from sklearn.decomposition import PCA\n",
    "\n",
    "# create a PCA object\n",
    "pca = PCA(n_components=8)\n",
    "\n",
    "# fit the PCA object to the training dataset\n",
    "pca.fit(X_train)\n",
    "\n",
    "# transform the training and test datasets using the fitted PCA object\n",
    "X_train_pca = pca.transform(X_train)\n",
    "X_test_pca = pca.transform(X_test)\n",
    "\n",
    "# train the model using the transformed training dataset\n",
    "model9.fit(X_train_pca, y_train)\n",
    "\n",
    "# transform the validation and test sets using the trained PCA object\n",
    "X_val_pca = pca.transform(X_val)\n",
    "X_test_pca = pca.transform(X_test)\n",
    "\n",
    "# evaluate the performance of the model on the PCA-transformed training set\n",
    "y_train_pred = model9.predict(X_train_pca)\n",
    "train_accuracy = accuracy_score(y_train, y_train_pred)\n",
    "train_recall = recall_score(y_train, y_train_pred)\n",
    "train_precision = precision_score(y_train, y_train_pred)\n",
    "\n",
    "# evaluate the performance of the model on the PCA-transformed validation set\n",
    "y_val_pred = model9.predict(X_val_pca)\n",
    "val_accuracy = accuracy_score(y_val, y_val_pred)\n",
    "val_recall = recall_score(y_val, y_val_pred)\n",
    "val_precision = precision_score(y_val, y_val_pred)\n",
    "\n",
    "# evaluate the performance of the model on the PCA-transformed test set\n",
    "y_test_pred = model9.predict(X_test_pca)\n",
    "test_accuracy = accuracy_score(y_test, y_test_pred)\n",
    "test_recall = recall_score(y_test, y_test_pred)\n",
    "test_precision = precision_score(y_test, y_test_pred)\n",
    "\n",
    "print(\"Training set: Accuracy: {}, Recall: {}, Precision: {}\".format(train_accuracy, train_recall, train_precision))\n",
    "print(\"Validation set: Accuracy: {}, Recall: {}, Precision: {}\".format(val_accuracy, val_recall, val_precision))\n",
    "print(\"Test set: Accuracy: {}, Recall: {}, Precision: {}\".format(test_accuracy, test_recall, test_precision))"
   ]
  },
  {
   "cell_type": "code",
   "execution_count": 105,
   "id": "3f1247ab-d1dd-46d8-8db0-42bba854700c",
   "metadata": {},
   "outputs": [],
   "source": [
    "# 2. SMOTE"
   ]
  },
  {
   "cell_type": "code",
   "execution_count": 106,
   "id": "c3888c13-c225-4fbc-91ca-8d144adcfcca",
   "metadata": {},
   "outputs": [
    {
     "name": "stdout",
     "output_type": "stream",
     "text": [
      "Training set: Accuracy: 0.8816643714341924, Recall: 0.8573676962423765, Precision: 0.9011579818031431\n",
      "Validation set: Accuracy: 0.849375, Recall: 0.6666666666666666, Precision: 0.6228571428571429\n",
      "Test set: Accuracy: 0.8445, Recall: 0.6717557251908397, Precision: 0.5919282511210763\n"
     ]
    }
   ],
   "source": [
    "from imblearn.over_sampling import SMOTE\n",
    "from xgboost import XGBClassifier\n",
    "\n",
    "# perform SMOTE oversampling on the training set\n",
    "smote = SMOTE(random_state=42)\n",
    "X_train_resampled, y_train_resampled = smote.fit_resample(X_train, y_train)\n",
    "\n",
    "# train the model on the resampled training set\n",
    "model9.fit(X_train_resampled, y_train_resampled)\n",
    "\n",
    "# evaluate the performance of the model on the resampled training set\n",
    "y_train_pred = model9.predict(X_train_resampled)\n",
    "train_accuracy = accuracy_score(y_train_resampled, y_train_pred)\n",
    "train_recall = recall_score(y_train_resampled, y_train_pred)\n",
    "train_precision = precision_score(y_train_resampled, y_train_pred)\n",
    "\n",
    "# evaluate the performance of the model on the validation set\n",
    "y_val_pred = model9.predict(X_val)\n",
    "val_accuracy = accuracy_score(y_val, y_val_pred)\n",
    "val_recall = recall_score(y_val, y_val_pred)\n",
    "val_precision = precision_score(y_val, y_val_pred)\n",
    "\n",
    "# evaluate the performance of the model on the test set\n",
    "y_test_pred = model9.predict(X_test)\n",
    "test_accuracy = accuracy_score(y_test, y_test_pred)\n",
    "test_recall = recall_score(y_test, y_test_pred)\n",
    "test_precision = precision_score(y_test, y_test_pred)\n",
    "\n",
    "print(\"Training set: Accuracy: {}, Recall: {}, Precision: {}\".format(train_accuracy, train_recall, train_precision))\n",
    "print(\"Validation set: Accuracy: {}, Recall: {}, Precision: {}\".format(val_accuracy, val_recall, val_precision))\n",
    "print(\"Test set: Accuracy: {}, Recall: {}, Precision: {}\".format(test_accuracy, test_recall, test_precision))"
   ]
  },
  {
   "cell_type": "code",
   "execution_count": 107,
   "id": "1a9daada-6dda-4016-9a86-7ea63f06d674",
   "metadata": {},
   "outputs": [],
   "source": [
    "# WEEK 11 "
   ]
  },
  {
   "cell_type": "code",
   "execution_count": null,
   "id": "e4fbf921-5d39-4141-b2ab-ffe9e3de43b5",
   "metadata": {},
   "outputs": [],
   "source": [
    "!pip install shap"
   ]
  },
  {
   "cell_type": "code",
   "execution_count": 108,
   "id": "60de76c8-0468-4653-87cb-b0c353465180",
   "metadata": {},
   "outputs": [],
   "source": [
    "# use SHAP to analyze feature importance\n",
    "import shap"
   ]
  },
  {
   "cell_type": "code",
   "execution_count": 109,
   "id": "9189a101-7db9-43f7-bc6b-c3887b46e7ff",
   "metadata": {},
   "outputs": [
    {
     "name": "stdout",
     "output_type": "stream",
     "text": [
      "(6400, 12)\n"
     ]
    }
   ],
   "source": [
    "print(X_train.shape)"
   ]
  },
  {
   "cell_type": "code",
   "execution_count": 110,
   "id": "45de873c-605d-4f55-b689-3ef1f865bdba",
   "metadata": {},
   "outputs": [
    {
     "name": "stderr",
     "output_type": "stream",
     "text": [
      "ntree_limit is deprecated, use `iteration_range` or model slicing instead.\n"
     ]
    }
   ],
   "source": [
    "#  explain the model's predictions using SHAP\n",
    "explainer = shap.Explainer(model9)\n",
    "shap_values = explainer(X_train)\n",
    "shap_values = shap.Explainer(model9).shap_values(X_train)"
   ]
  },
  {
   "cell_type": "code",
   "execution_count": 111,
   "id": "47dc159f-5a87-4f30-b9ba-a10c80e223d9",
   "metadata": {},
   "outputs": [
    {
     "name": "stderr",
     "output_type": "stream",
     "text": [
      "No data for colormapping provided via 'c'. Parameters 'vmin', 'vmax' will be ignored\n"
     ]
    },
    {
     "data": {
      "image/png": "[encoded data removed]",
      "text/plain": [
       "<Figure size 800x630 with 2 Axes>"
      ]
     },
     "metadata": {},
     "output_type": "display_data"
    }
   ],
   "source": [
    "# a density scatter plot \n",
    "shap.summary_plot(shap_values, X_train, show=False)\n",
    "# save the image\n",
    "# plt.savefig('Shap_plot_02.png', bbox_inches='tight')"
   ]
  },
  {
   "cell_type": "code",
   "execution_count": 112,
   "id": "bd4b8a55-b3eb-43d0-b638-d54b8cdc0e70",
   "metadata": {},
   "outputs": [],
   "source": [
    "y_pred = model9.predict(X_test)"
   ]
  },
  {
   "cell_type": "code",
   "execution_count": 113,
   "id": "eef33cb5-9fe4-48bf-8b85-9bf892029584",
   "metadata": {},
   "outputs": [],
   "source": [
    "# feature 1 & 2 geography_France & geography_Spain"
   ]
  },
  {
   "cell_type": "code",
   "execution_count": 114,
   "id": "cfcdffba-681b-4a94-a620-a20e483b19a4",
   "metadata": {},
   "outputs": [
    {
     "name": "stdout",
     "output_type": "stream",
     "text": [
      "Number of France= 5014\n",
      "Percentage of France = 50.14%\n"
     ]
    }
   ],
   "source": [
    "F = (X['Geography_France'] == 1).sum()\n",
    "pct_F = F / len(X['Geography_France']) * 100\n",
    "\n",
    "# Print the results\n",
    "print(f\"Number of France= {F}\")\n",
    "print(f\"Percentage of France = {pct_F:.2f}%\")"
   ]
  },
  {
   "cell_type": "code",
   "execution_count": 115,
   "id": "0f5a35fa-4071-4bf9-9517-2aeab0c29eff",
   "metadata": {},
   "outputs": [
    {
     "name": "stdout",
     "output_type": "stream",
     "text": [
      "Number of Spain = 2477\n",
      "Percentage of Spain = 24.77%\n"
     ]
    }
   ],
   "source": [
    "spain = (X['Geography_Spain'] == 1).sum()\n",
    "pct_spain = spain / len(X['Gender']) * 100\n",
    "\n",
    "# Print the results\n",
    "print(f\"Number of Spain = {spain}\")\n",
    "print(f\"Percentage of Spain = {pct_spain:.2f}%\")"
   ]
  },
  {
   "cell_type": "code",
   "execution_count": 116,
   "id": "1244ce0d-956f-4523-ba57-b1b81a28765c",
   "metadata": {},
   "outputs": [],
   "source": [
    "# exchange values in geography_France & geography_Spain columns"
   ]
  },
  {
   "cell_type": "code",
   "execution_count": 117,
   "id": "9daf175d-ead4-4016-94db-4c10f650ba1a",
   "metadata": {},
   "outputs": [
    {
     "name": "stdout",
     "output_type": "stream",
     "text": [
      "Number of flips: 198\n",
      "Percentage of flips: 9.90%\n"
     ]
    }
   ],
   "source": [
    "X2 = X.copy()\n",
    "X2['Geography_France'], X2['Geography_Spain'] = X2['Geography_Spain'], X2['Geography_France']\n",
    "\n",
    "# split the training set into training and test\n",
    "X2_train, X2_test, y_train, y_test = model_selection.train_test_split(X2, y, test_size=0.2, random_state=42) \n",
    "\n",
    "# train the model\n",
    "model9.fit(X2_train, y_train)\n",
    "\n",
    "# Make predictions on the test set\n",
    "y_pred2 = model9.predict(X2_test)\n",
    "\n",
    "# Count the number of flips\n",
    "num_flips2 = (y_pred != y_pred2).sum()\n",
    "\n",
    "# Calculate the percentage of flips\n",
    "pct_flips2 = num_flips2 / len(y_test) * 100\n",
    "\n",
    "# Print the results\n",
    "print(f\"Number of flips: {num_flips2}\")\n",
    "print(f\"Percentage of flips: {pct_flips2:.2f}%\")\n"
   ]
  },
  {
   "cell_type": "code",
   "execution_count": 118,
   "id": "0890c940-bf15-4895-9738-b5553b501b8e",
   "metadata": {},
   "outputs": [],
   "source": [
    "# feature 3 decrease the age (-20)"
   ]
  },
  {
   "cell_type": "code",
   "execution_count": 119,
   "id": "7a8df064-17de-4a40-bc9c-70c949abb64a",
   "metadata": {},
   "outputs": [
    {
     "name": "stdout",
     "output_type": "stream",
     "text": [
      "Number of flips: 203\n",
      "Percentage of flips: 10.15%\n"
     ]
    }
   ],
   "source": [
    "X3 = X.copy()\n",
    "X3['Age'] = X3['Age'] - 10\n",
    "\n",
    "# split the training set into training and test\n",
    "X3_train, X3_test, y_train, y_test = model_selection.train_test_split(X3, y, test_size=0.2, random_state=42) \n",
    "\n",
    "# train the model\n",
    "model9.fit(X3_train, y_train)\n",
    "\n",
    "# Make predictions on the test set\n",
    "y_pred3 = model9.predict(X3_test)\n",
    "\n",
    "# Count the number of flips\n",
    "num_flips3 = (y_pred != y_pred3).sum()\n",
    "\n",
    "# Calculate the percentage of flips\n",
    "pct_flips3 = num_flips3 / len(y_test) * 100\n",
    "\n",
    "# Print the results\n",
    "print(f\"Number of flips: {num_flips3}\")\n",
    "print(f\"Percentage of flips: {pct_flips3:.2f}%\")"
   ]
  },
  {
   "cell_type": "code",
   "execution_count": 120,
   "id": "d97d0600-9d63-4b91-b1d9-791b2f2cc65f",
   "metadata": {},
   "outputs": [],
   "source": [
    "# feature 4 gender (female = 0, male =1)"
   ]
  },
  {
   "cell_type": "code",
   "execution_count": 121,
   "id": "852c18bd-bbd6-4115-bf9e-fed97cae5141",
   "metadata": {},
   "outputs": [
    {
     "name": "stdout",
     "output_type": "stream",
     "text": [
      "Number of gender = 5457\n",
      "Percentage of gender = 54.57%\n"
     ]
    }
   ],
   "source": [
    "# Count the number of gender = 1\n",
    "male = (X['Gender'] == 1).sum()\n",
    "\n",
    "# Calculate the percentage of gender = 1\n",
    "pct_male = male / len(X['Gender']) * 100\n",
    "\n",
    "# Print the results\n",
    "print(f\"Number of gender = {male}\")\n",
    "print(f\"Percentage of gender = {pct_male:.2f}%\")"
   ]
  },
  {
   "cell_type": "code",
   "execution_count": 122,
   "id": "00d0abf4-a380-4418-abce-83ad3a4e4616",
   "metadata": {},
   "outputs": [],
   "source": [
    "# now set 70% of customers are male"
   ]
  },
  {
   "cell_type": "code",
   "execution_count": 123,
   "id": "8aa7d1b9-3451-4cd9-80cc-d0a449ad6a66",
   "metadata": {},
   "outputs": [
    {
     "name": "stdout",
     "output_type": "stream",
     "text": [
      "Number of flips: 216\n",
      "Percentage of flips: 10.80%\n"
     ]
    }
   ],
   "source": [
    "# now 70% of customers are male\n",
    "# Set a random seed for reproducibility\n",
    "np.random.seed(42)\n",
    "\n",
    "# Make a copy of X\n",
    "X4 = X.copy()\n",
    "\n",
    "# Set a fraction of rows to 1 for gender\n",
    "frac = 0.7\n",
    "idx = X4.sample(frac=frac, random_state=42).index\n",
    "X4.loc[idx,'Gender'] = 1\n",
    "\n",
    "# split the training set into training and test\n",
    "X4_train, X4_test, y_train, y_test = model_selection.train_test_split(X4, y, test_size=0.2, random_state=42) \n",
    "\n",
    "# train the model\n",
    "model9.fit(X4_train, y_train)\n",
    "\n",
    "# Make predictions on the test set\n",
    "y_pred4 = model9.predict(X4_test)\n",
    "\n",
    "# Count the number of flips\n",
    "num_flips4 = (y_pred != y_pred4).sum()\n",
    "\n",
    "# Calculate the percentage of flips\n",
    "pct_flips4 = num_flips4 / len(y_test) * 100\n",
    "\n",
    "# Print the results\n",
    "print(f\"Number of flips: {num_flips4}\")\n",
    "print(f\"Percentage of flips: {pct_flips4:.2f}%\")\n",
    "\n"
   ]
  },
  {
   "cell_type": "code",
   "execution_count": 124,
   "id": "ab017254-b327-407d-9abe-d44713389aa4",
   "metadata": {},
   "outputs": [],
   "source": [
    "# feature 5 is active member"
   ]
  },
  {
   "cell_type": "code",
   "execution_count": 125,
   "id": "78ab3483-9aa1-427c-99a9-0b1ae4f2b861",
   "metadata": {},
   "outputs": [
    {
     "name": "stdout",
     "output_type": "stream",
     "text": [
      "Number of Active Member = 5151\n",
      "Percentage of Active Member = 51.51%\n"
     ]
    }
   ],
   "source": [
    "A = (X['IsActiveMember'] == 1).sum()\n",
    "pct_A = A / len(X['IsActiveMember']) * 100\n",
    "\n",
    "# Print the results\n",
    "print(f\"Number of Active Member = {A}\")\n",
    "print(f\"Percentage of Active Member = {pct_A:.2f}%\")"
   ]
  },
  {
   "cell_type": "code",
   "execution_count": 126,
   "id": "6364a8cf-e072-4992-b9bf-39a72cb2a9e2",
   "metadata": {},
   "outputs": [],
   "source": [
    "# now set 70% of customers are active members"
   ]
  },
  {
   "cell_type": "code",
   "execution_count": 127,
   "id": "53273c59-f49e-4ade-a75d-349bdb5c62ca",
   "metadata": {},
   "outputs": [
    {
     "name": "stdout",
     "output_type": "stream",
     "text": [
      "Number of flips: 245\n",
      "Percentage of flips: 12.25%\n"
     ]
    }
   ],
   "source": [
    "# Make a copy of X\n",
    "X6 = X.copy()\n",
    "\n",
    "# Set a fraction of rows to 1 for Geography_France\n",
    "frac = 0.7\n",
    "idx = X6.sample(frac=frac, random_state=42).index\n",
    "X6.loc[idx, 'IsActiveMember'] = 1\n",
    "\n",
    "# split the training set into training and test\n",
    "X6_train, X6_test, y_train, y_test = model_selection.train_test_split(X6, y, test_size=0.2, random_state=42) \n",
    "\n",
    "# train the model\n",
    "model9.fit(X6_train, y_train)\n",
    "\n",
    "# Make predictions on the test set\n",
    "y_pred6 = model9.predict(X6_test)\n",
    "\n",
    "# Count the number of flips\n",
    "num_flips6 = (y_pred != y_pred6).sum()\n",
    "\n",
    "# Calculate the percentage of flips\n",
    "pct_flips6 = num_flips6 / len(y_test) * 100\n",
    "\n",
    "# Print the results\n",
    "print(f\"Number of flips: {num_flips6}\")\n",
    "print(f\"Percentage of flips: {pct_flips6:.2f}%\")\n"
   ]
  },
  {
   "cell_type": "code",
   "execution_count": 128,
   "id": "d5ad6f24-450c-4dbe-b882-065de7020d06",
   "metadata": {},
   "outputs": [],
   "source": [
    "# age and gender are in the protected category"
   ]
  },
  {
   "cell_type": "code",
   "execution_count": 129,
   "id": "a00cc0d7-28b8-4655-a0e6-9c51f1973c76",
   "metadata": {},
   "outputs": [],
   "source": [
    "# Remove 'Age' and 'Gender' features from the dataset, and retrain the model for week 10 "
   ]
  },
  {
   "cell_type": "code",
   "execution_count": 130,
   "id": "b21008b2-f449-49cb-b2d0-8ac9bab8b091",
   "metadata": {},
   "outputs": [
    {
     "name": "stdout",
     "output_type": "stream",
     "text": [
      "Training set: Accuracy: 0.8426126303364155, Recall: 0.8164469801298446, Precision: 0.86153207390492\n",
      "Validation set: Accuracy: 0.80375, Recall: 0.5626911314984709, Precision: 0.5183098591549296\n",
      "Test set: Accuracy: 0.8105, Recall: 0.55470737913486, Precision: 0.5165876777251185\n"
     ]
    }
   ],
   "source": [
    "# Remove 'Age' and 'Gender' features from the dataset\n",
    "X1 = X.drop(['Age', 'Gender'], axis=1)\n",
    "\n",
    "# split the training set into training and test\n",
    "X1_train, X_test, y_train, y_test = model_selection.train_test_split(X1, y, test_size=0.2, random_state=42) \n",
    "\n",
    "# split the training set into training and validation\n",
    "X1_train, X_val, y_train, y_val = model_selection.train_test_split(X1_train, y_train, test_size=0.2, random_state=42) \n",
    "\n",
    "from imblearn.over_sampling import SMOTE\n",
    "from xgboost import XGBClassifier\n",
    "\n",
    "# perform SMOTE oversampling on the training set\n",
    "smote = SMOTE(random_state=42)\n",
    "X1_train_resampled, y_train_resampled = smote.fit_resample(X1_train, y_train)\n",
    "\n",
    "# train the model on the resampled training set\n",
    "model9.fit(X1_train_resampled, y_train_resampled)\n",
    "\n",
    "# evaluate the performance of the model on the resampled training set\n",
    "y_train_pred = model9.predict(X1_train_resampled)\n",
    "train_accuracy = accuracy_score(y_train_resampled, y_train_pred)\n",
    "train_recall = recall_score(y_train_resampled, y_train_pred)\n",
    "train_precision = precision_score(y_train_resampled, y_train_pred)\n",
    "\n",
    "# evaluate the performance of the model on the validation set\n",
    "y_val_pred = model9.predict(X_val)\n",
    "val_accuracy = accuracy_score(y_val, y_val_pred)\n",
    "val_recall = recall_score(y_val, y_val_pred)\n",
    "val_precision = precision_score(y_val, y_val_pred)\n",
    "\n",
    "# evaluate the performance of the model on the test set\n",
    "y_test_pred = model9.predict(X_test)\n",
    "test_accuracy = accuracy_score(y_test, y_test_pred)\n",
    "test_recall = recall_score(y_test, y_test_pred)\n",
    "test_precision = precision_score(y_test, y_test_pred)\n",
    "\n",
    "print(\"Training set: Accuracy: {}, Recall: {}, Precision: {}\".format(train_accuracy, train_recall, train_precision))\n",
    "print(\"Validation set: Accuracy: {}, Recall: {}, Precision: {}\".format(val_accuracy, val_recall, val_precision))\n",
    "print(\"Test set: Accuracy: {}, Recall: {}, Precision: {}\".format(test_accuracy, test_recall, test_precision))"
   ]
  },
  {
   "cell_type": "code",
   "execution_count": 131,
   "id": "f9b555fb-aaed-40db-bb73-226a48679c23",
   "metadata": {},
   "outputs": [],
   "source": [
    "# Accuray, recall and precision all decreased for training, validation and test sets after dropping protected categories. "
   ]
  },
  {
   "cell_type": "code",
   "execution_count": 132,
   "id": "af8e1404-a87f-4bfc-a803-ec1f67abdb35",
   "metadata": {},
   "outputs": [],
   "source": [
    "# WEEK 12"
   ]
  },
  {
   "cell_type": "code",
   "execution_count": 133,
   "id": "ecc7b2fb-5700-4776-9366-c8ef4ea11fca",
   "metadata": {},
   "outputs": [],
   "source": [
    "import pickle"
   ]
  },
  {
   "cell_type": "code",
   "execution_count": 134,
   "id": "440f9f54-b091-43e5-8963-0fcb748cf2b3",
   "metadata": {},
   "outputs": [],
   "source": [
    "# save the model to disk\n",
    "filename = 'finalized_model.sav'\n",
    "pickle.dump(model9, open(filename, 'wb'))"
   ]
  },
  {
   "cell_type": "code",
   "execution_count": 135,
   "id": "dd787da3-7421-4f1c-8963-36bfdb5adc0d",
   "metadata": {},
   "outputs": [
    {
     "name": "stdout",
     "output_type": "stream",
     "text": [
      "0.8105\n"
     ]
    }
   ],
   "source": [
    "# load the model from disk\n",
    "loaded_model = pickle.load(open(filename, 'rb'))\n",
    "result = loaded_model.score(X_test, y_test)\n",
    "print(result)"
   ]
  },
  {
   "cell_type": "code",
   "execution_count": 136,
   "id": "64d745cd-2636-4342-85de-a490292d0b0d",
   "metadata": {},
   "outputs": [
    {
     "name": "stdout",
     "output_type": "stream",
     "text": [
      "Package                      Version\n",
      "---------------------------- -----------\n",
      "absl-py                      1.3.0\n",
      "alembic                      1.9.1\n",
      "anyio                        3.6.2\n",
      "argon2-cffi                  21.3.0\n",
      "argon2-cffi-bindings         21.2.0\n",
      "arrow                        1.2.3\n",
      "asttokens                    2.2.1\n",
      "astunparse                   1.6.3\n",
      "async-generator              1.10\n",
      "attrs                        22.2.0\n",
      "Automat                      22.10.0\n",
      "Babel                        2.11.0\n",
      "backcall                     0.2.0\n",
      "beautifulsoup4               4.11.1\n",
      "binaryornot                  0.4.4\n",
      "bleach                       5.0.1\n",
      "brewer2mpl                   1.4.1\n",
      "brotlipy                     0.7.0\n",
      "cachetools                   5.2.1\n",
      "certifi                      2022.12.7\n",
      "certipy                      0.1.3\n",
      "cffi                         1.14.6\n",
      "chardet                      4.0.0\n",
      "charset-normalizer           2.0.0\n",
      "click                        8.1.3\n",
      "cloudpickle                  2.2.1\n",
      "colorama                     0.4.4\n",
      "comm                         0.1.2\n",
      "conda                        4.10.3\n",
      "conda-package-handling       1.7.3\n",
      "constantly                   15.1.0\n",
      "contourpy                    1.0.6\n",
      "cookiecutter                 2.1.1\n",
      "cryptography                 3.4.8\n",
      "cssselect                    1.2.0\n",
      "cycler                       0.11.0\n",
      "debugpy                      1.6.5\n",
      "decorator                    5.1.1\n",
      "defusedxml                   0.7.1\n",
      "entrypoints                  0.4\n",
      "executing                    1.2.0\n",
      "fastjsonschema               2.16.2\n",
      "filelock                     3.9.0\n",
      "flatbuffers                  23.1.4\n",
      "fonttools                    4.38.0\n",
      "fst-pso                      1.8.1\n",
      "FuzzyTM                      2.0.5\n",
      "gast                         0.4.0\n",
      "gensim                       4.3.0\n",
      "ggplot                       0.11.5\n",
      "google-auth                  2.16.0\n",
      "google-auth-oauthlib         0.4.6\n",
      "google-pasta                 0.2.0\n",
      "graphviz                     0.20.1\n",
      "greenlet                     2.0.1\n",
      "grpcio                       1.51.1\n",
      "h5py                         3.7.0\n",
      "hyperlink                    21.0.0\n",
      "idna                         3.1\n",
      "imageio                      2.24.0\n",
      "imbalanced-learn             0.10.1\n",
      "importlib-metadata           6.0.0\n",
      "incremental                  22.10.0\n",
      "ipykernel                    6.19.4\n",
      "ipython                      8.8.0\n",
      "ipython-genutils             0.2.0\n",
      "ipywidgets                   7.7.2\n",
      "itemadapter                  0.7.0\n",
      "itemloaders                  1.0.6\n",
      "jedi                         0.18.2\n",
      "Jinja2                       3.1.2\n",
      "jinja2-time                  0.2.0\n",
      "jmespath                     1.0.1\n",
      "joblib                       1.2.0\n",
      "json5                        0.9.11\n",
      "jsonschema                   4.17.3\n",
      "jupyter_client               7.4.8\n",
      "jupyter_core                 5.1.2\n",
      "jupyter-resource-usage       0.6.4\n",
      "jupyter-server               1.23.4\n",
      "jupyter-telemetry            0.1.0\n",
      "jupyterhub                   1.5.1\n",
      "jupyterlab                   3.5.2\n",
      "jupyterlab-pygments          0.2.2\n",
      "jupyterlab_server            2.18.0\n",
      "jupyterlab-widgets           1.1.1\n",
      "keras                        2.11.0\n",
      "kiwisolver                   1.4.4\n",
      "libclang                     15.0.6.1\n",
      "llvmlite                     0.39.1\n",
      "lxml                         4.9.2\n",
      "Mako                         1.2.4\n",
      "mamba                        0.16.0\n",
      "Markdown                     3.4.1\n",
      "MarkupSafe                   2.1.1\n",
      "matplotlib                   3.6.2\n",
      "matplotlib-inline            0.1.6\n",
      "miniful                      0.0.6\n",
      "mistune                      2.0.4\n",
      "nbclassic                    0.4.8\n",
      "nbclient                     0.7.2\n",
      "nbconvert                    7.2.7\n",
      "nbformat                     5.7.1\n",
      "nbgitpuller                  1.1.1\n",
      "nest-asyncio                 1.5.6\n",
      "networkx                     3.0\n",
      "nltk                         3.8.1\n",
      "notebook                     6.5.2\n",
      "notebook_shim                0.2.2\n",
      "nteract-on-jupyter           2.1.3\n",
      "numba                        0.56.4\n",
      "numpy                        1.23.5\n",
      "nvidia-cublas-cu11           11.10.3.66\n",
      "nvidia-cuda-nvrtc-cu11       11.7.99\n",
      "nvidia-cuda-runtime-cu11     11.7.99\n",
      "nvidia-cudnn-cu11            8.5.0.96\n",
      "oauthlib                     3.2.2\n",
      "opencv-python                4.7.0.68\n",
      "opt-einsum                   3.3.0\n",
      "packaging                    22.0\n",
      "pamela                       1.0.0\n",
      "pandas                       1.5.2\n",
      "pandocfilters                1.5.0\n",
      "parsel                       1.7.0\n",
      "parso                        0.8.3\n",
      "patsy                        0.5.3\n",
      "pexpect                      4.8.0\n",
      "pickleshare                  0.7.5\n",
      "Pillow                       9.4.0\n",
      "pip                          21.3\n",
      "platformdirs                 2.6.2\n",
      "plotly                       5.11.0\n",
      "prometheus-client            0.15.0\n",
      "prompt-toolkit               3.0.36\n",
      "Protego                      0.2.1\n",
      "protobuf                     3.19.6\n",
      "psutil                       5.9.4\n",
      "ptyprocess                   0.7.0\n",
      "pure-eval                    0.2.2\n",
      "pyasn1                       0.4.8\n",
      "pyasn1-modules               0.2.8\n",
      "pycosat                      0.6.3\n",
      "pycparser                    2.20\n",
      "pydataset                    0.2.0\n",
      "PyDispatcher                 2.0.6\n",
      "pydot                        1.4.2\n",
      "pydotplus                    2.0.2\n",
      "pyFUME                       0.2.25\n",
      "Pygments                     2.14.0\n",
      "pyOpenSSL                    21.0.0\n",
      "pyparsing                    3.0.9\n",
      "pyrsistent                   0.19.3\n",
      "PySocks                      1.7.1\n",
      "python-dateutil              2.8.2\n",
      "python-json-logger           2.0.4\n",
      "python-slugify               7.0.0\n",
      "pytz                         2022.7\n",
      "PyWavelets                   1.4.1\n",
      "PyYAML                       6.0\n",
      "pyzmq                        24.0.1\n",
      "queuelib                     1.6.2\n",
      "regex                        2022.10.31\n",
      "requests                     2.28.1\n",
      "requests-file                1.5.1\n",
      "requests-oauthlib            1.3.1\n",
      "rsa                          4.9\n",
      "ruamel.yaml                  0.17.21\n",
      "ruamel.yaml.clib             0.2.7\n",
      "ruamel-yaml-conda            0.15.80\n",
      "scikit-image                 0.19.3\n",
      "scikit-learn                 1.2.0\n",
      "scipy                        1.10.0\n",
      "Scrapy                       2.7.1\n",
      "seaborn                      0.12.2\n",
      "Send2Trash                   1.8.0\n",
      "service-identity             21.1.0\n",
      "setuptools                   58.2.0\n",
      "shap                         0.41.0\n",
      "simpful                      2.9.0\n",
      "SimpleCV                     1.3\n",
      "six                          1.16.0\n",
      "slicer                       0.0.7\n",
      "smart-open                   6.3.0\n",
      "sniffio                      1.3.0\n",
      "soupsieve                    2.3.2.post1\n",
      "SQLAlchemy                   1.4.46\n",
      "stack-data                   0.6.2\n",
      "statsmodels                  0.13.5\n",
      "tenacity                     8.1.0\n",
      "tensorboard                  2.11.0\n",
      "tensorboard-data-server      0.6.1\n",
      "tensorboard-plugin-wit       1.8.1\n",
      "tensorflow                   2.11.0\n",
      "tensorflow-estimator         2.11.0\n",
      "tensorflow-io-gcs-filesystem 0.29.0\n",
      "termcolor                    2.2.0\n",
      "terminado                    0.17.1\n",
      "text-unidecode               1.3\n",
      "threadpoolctl                3.1.0\n",
      "tifffile                     2022.10.10\n",
      "tinycss2                     1.2.1\n",
      "tldextract                   3.4.0\n",
      "tomli                        2.0.1\n",
      "torch                        1.13.1\n",
      "torchvision                  0.14.1\n",
      "tornado                      6.2\n",
      "tqdm                         4.62.3\n",
      "traitlets                    5.8.0\n",
      "Twisted                      22.10.0\n",
      "typing_extensions            4.4.0\n",
      "urllib3                      1.26.7\n",
      "w3lib                        2.1.1\n",
      "wcwidth                      0.2.5\n",
      "webencodings                 0.5.1\n",
      "websocket-client             1.4.2\n",
      "Werkzeug                     2.2.2\n",
      "wheel                        0.37.0\n",
      "widgetsnbextension           3.6.1\n",
      "wrapt                        1.14.1\n",
      "xgboost                      1.7.3\n",
      "zipp                         3.11.0\n",
      "zope.interface               5.5.2\n"
     ]
    }
   ],
   "source": [
    "!pip list"
   ]
  },
  {
   "cell_type": "code",
   "execution_count": 139,
   "id": "1ae2b623-3902-47e1-9f61-a9f1d4118a83",
   "metadata": {},
   "outputs": [
    {
     "name": "stdout",
     "output_type": "stream",
     "text": [
      "Defaulting to user installation because normal site-packages is not writeable\n",
      "Collecting reportlab\n",
      "  Downloading reportlab-3.6.12-cp39-cp39-manylinux_2_17_x86_64.manylinux2014_x86_64.whl (2.8 MB)\n",
      "     |████████████████████████████████| 2.8 MB 4.7 MB/s            \n",
      "\u001b[?25hRequirement already satisfied: pillow>=9.0.0 in /opt/tljh/user/lib/python3.9/site-packages (from reportlab) (9.4.0)\n",
      "Installing collected packages: reportlab\n",
      "Successfully installed reportlab-3.6.12\n"
     ]
    }
   ],
   "source": [
    "!pip install reportlab"
   ]
  },
  {
   "cell_type": "code",
   "execution_count": 140,
   "id": "f3095d1e-0ec5-43a1-bb53-fbda010a5cbb",
   "metadata": {},
   "outputs": [],
   "source": [
    "from reportlab.lib.pagesizes import letter, landscape\n",
    "from reportlab.platypus import SimpleDocTemplate, Paragraph, Table, TableStyle\n",
    "from reportlab.lib import colors\n",
    "import subprocess\n",
    "\n",
    "# Run pip list command and capture the output\n",
    "output = subprocess.check_output(['pip', 'list']).decode('utf-8')\n",
    "\n",
    "# Split the output into lines\n",
    "lines = output.split('\\n')\n",
    "\n",
    "# Remove the header line\n",
    "lines.pop(0)\n",
    "\n",
    "# Create a list of lists to store the data\n",
    "data = [line.split() for line in lines]\n",
    "\n",
    "# Create a PDF document\n",
    "doc = SimpleDocTemplate(\"pip_list.pdf\", pagesize=landscape(letter))\n",
    "\n",
    "# Create a list of flowables for the table\n",
    "table = Table(data)\n",
    "\n",
    "# Set table style\n",
    "table.setStyle(TableStyle([\n",
    "    ('BACKGROUND', (0, 0), (-1, 0), colors.grey),\n",
    "    ('TEXTCOLOR', (0, 0), (-1, 0), colors.whitesmoke),\n",
    "    ('ALIGN', (0, 0), (-1, -1), 'CENTER'),\n",
    "    ('FONTNAME', (0, 0), (-1, 0), 'Helvetica-Bold'),\n",
    "    ('FONTSIZE', (0, 0), (-1, 0), 14),\n",
    "    ('BOTTOMPADDING', (0, 0), (-1, 0), 12),\n",
    "    ('BACKGROUND', (0, 1), (-1, -1), colors.beige),\n",
    "    ('GRID', (0, 0), (-1, -1), 1, colors.black)\n",
    "]))\n",
    "\n",
    "# Add the table to the document and build it\n",
    "doc.build([table])\n"
   ]
  }
 ],
 "metadata": {
  "kernelspec": {
   "display_name": "Python 3 (ipykernel)",
   "language": "python",
   "name": "python3"
  },
  "language_info": {
   "codemirror_mode": {
    "name": "ipython",
    "version": 3
   },
   "file_extension": ".py",
   "mimetype": "text/x-python",
   "name": "python",
   "nbconvert_exporter": "python",
   "pygments_lexer": "ipython3",
   "version": "3.9.7"
  }
 },
 "nbformat": 4,
 "nbformat_minor": 5
}
