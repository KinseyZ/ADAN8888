{
 "cells": [
  {
   "cell_type": "code",
   "execution_count": null,
   "id": "542ee232-e366-45c9-98e1-f22ca54d20ab",
   "metadata": {},
   "outputs": [],
   "source": [
    "import sklearn\n",
    "import pandas as pd\n",
    "import numpy as np\n",
    "import matplotlib.pyplot as plt\n",
    "%matplotlib inline"
   ]
  },
  {
   "cell_type": "code",
   "execution_count": null,
   "id": "5b226878-15df-4821-934f-954756eab658",
   "metadata": {},
   "outputs": [],
   "source": [
    "bank = pd.read_csv('ADAN8888/data/raw/bank_raw.csv')"
   ]
  },
  {
   "cell_type": "code",
   "execution_count": null,
   "id": "7da3631d-4c5b-4022-82df-5a1cc4c45e55",
   "metadata": {},
   "outputs": [],
   "source": [
    "# Data Exploration "
   ]
  },
  {
   "cell_type": "code",
   "execution_count": null,
   "id": "834b1f58-1f44-4c36-b7f5-237d79da2534",
   "metadata": {},
   "outputs": [],
   "source": [
    "bank.head()"
   ]
  },
  {
   "cell_type": "code",
   "execution_count": null,
   "id": "d7576f52-aed4-49aa-9a57-c92be64e9775",
   "metadata": {},
   "outputs": [],
   "source": [
    "bank.shape"
   ]
  },
  {
   "cell_type": "code",
   "execution_count": null,
   "id": "fc483d35-7438-4030-8f68-1673aeed30e0",
   "metadata": {},
   "outputs": [],
   "source": [
    "# check data info\n",
    "bank.info()"
   ]
  },
  {
   "cell_type": "code",
   "execution_count": null,
   "id": "6d93f5cf-0e3d-4065-a2a6-e37e633a6933",
   "metadata": {},
   "outputs": [],
   "source": [
    "# check the unique values for each column\n",
    "bank.nunique()"
   ]
  },
  {
   "cell_type": "code",
   "execution_count": null,
   "id": "03123694-fe0e-4720-94b4-33a9753fd1ef",
   "metadata": {},
   "outputs": [],
   "source": [
    "# check missing values\n",
    "bank.isnull().sum()"
   ]
  },
  {
   "cell_type": "code",
   "execution_count": null,
   "id": "a17f5c83-a5d7-451d-be4d-23c20fa2ab8d",
   "metadata": {},
   "outputs": [],
   "source": [
    "# understand Numerical feature\n",
    "# discrete/continuous\n",
    "# 'CreditScore', 'Age', 'Tenure', 'NumberOfProducts'\n",
    "# 'Balance', 'EstimatedSalary'\n",
    "bank[['CreditScore', 'Age', 'Tenure', 'NumOfProducts','Balance', 'EstimatedSalary']].describe()"
   ]
  },
  {
   "cell_type": "code",
   "execution_count": null,
   "id": "d9ec40bc-1331-4964-bb40-593384a250a1",
   "metadata": {},
   "outputs": [],
   "source": [
    "import matplotlib.pyplot as plt\n",
    "import seaborn as sns"
   ]
  },
  {
   "cell_type": "code",
   "execution_count": null,
   "id": "79d3f2b4-aedb-46f9-acdd-ba819c1adc72",
   "metadata": {},
   "outputs": [],
   "source": [
    "# boxplot for numerical feature\n",
    "_,axss = plt.subplots(2,3, figsize=[20,10])\n",
    "sns.boxplot(x='Exited', y ='CreditScore', data=bank, ax=axss[0][0])\n",
    "sns.boxplot(x='Exited', y ='Age', data=bank, ax=axss[0][1])\n",
    "sns.boxplot(x='Exited', y ='Tenure', data=bank, ax=axss[0][2])\n",
    "sns.boxplot(x='Exited', y ='NumOfProducts', data=bank, ax=axss[1][0])\n",
    "sns.boxplot(x='Exited', y ='Balance', data=bank, ax=axss[1][1])\n",
    "sns.boxplot(x='Exited', y ='EstimatedSalary', data=bank, ax=axss[1][2])"
   ]
  },
  {
   "cell_type": "code",
   "execution_count": null,
   "id": "610b3e76-97d5-4daf-9f0d-e4f252a823a8",
   "metadata": {},
   "outputs": [],
   "source": [
    "# understand categorical feature\n",
    "# 'Geography', 'Gender'\n",
    "# 'HasCrCard', 'IsActiveMember'\n",
    "_,axss = plt.subplots(2,2, figsize=[20,10])\n",
    "sns.countplot(x='Exited', hue='Geography', data=bank, ax=axss[0][0])\n",
    "sns.countplot(x='Exited', hue='Gender', data=bank, ax=axss[0][1])\n",
    "sns.countplot(x='Exited', hue='HasCrCard', data=bank, ax=axss[1][0])\n",
    "sns.countplot(x='Exited', hue='IsActiveMember', data=bank, ax=axss[1][1])"
   ]
  },
  {
   "cell_type": "code",
   "execution_count": null,
   "id": "c0546979-3baa-4db9-b0ac-ff832f65f541",
   "metadata": {},
   "outputs": [],
   "source": [
    "labels = 'Exited', 'Retained'\n",
    "sizes = [bank.Exited[bank['Exited']==1].count(), bank.Exited[bank['Exited']==0].count()]\n",
    "explode = (0, 0.1)\n",
    "fig1, ax1 = plt.subplots(figsize=(10, 8))\n",
    "ax1.pie(sizes, explode=explode, labels=labels, autopct='%1.1f%%',\n",
    "        shadow=True, startangle=90)\n",
    "ax1.axis('equal')\n",
    "plt.title(\"Proportion of customer churned and retained\", size = 20)\n",
    "plt.show()"
   ]
  },
  {
   "cell_type": "code",
   "execution_count": null,
   "id": "1fbef1e8-c7a7-42a1-b89e-cd84303b58d2",
   "metadata": {},
   "outputs": [],
   "source": [
    "# Feature Preprocessing\n",
    "# Drop useless feature\n",
    "bank1 = bank.drop(['RowNumber','CustomerId','Surname','Exited'], axis=1)"
   ]
  },
  {
   "cell_type": "code",
   "execution_count": null,
   "id": "560cd3c7-17c0-4e00-8645-e8a8d730c996",
   "metadata": {},
   "outputs": [],
   "source": [
    "bank1.head()"
   ]
  },
  {
   "cell_type": "code",
   "execution_count": null,
   "id": "ff544031-9f5c-4e3c-b36c-797521f9a169",
   "metadata": {},
   "outputs": [],
   "source": [
    "bank1.dtypes"
   ]
  },
  {
   "cell_type": "code",
   "execution_count": null,
   "id": "6a3311b6-b5bd-4ab6-8b17-cec7c9f36e99",
   "metadata": {},
   "outputs": [],
   "source": [
    "# Get target variable\n",
    "y = bank['Exited']"
   ]
  },
  {
   "cell_type": "code",
   "execution_count": null,
   "id": "c02bcb9e-fb70-4143-8fb0-5036507094e7",
   "metadata": {},
   "outputs": [],
   "source": [
    "# convert categorical varaiables to numerical variables\n",
    "from sklearn.preprocessing import LabelEncoder\n",
    "lb = LabelEncoder()\n",
    "bank1['Gender']= lb.fit_transform(bank1['Gender'])"
   ]
  },
  {
   "cell_type": "code",
   "execution_count": null,
   "id": "a15b1dc0-ff62-4152-a8a3-a8a9e06e8282",
   "metadata": {},
   "outputs": [],
   "source": [
    "X = bank1"
   ]
  },
  {
   "cell_type": "code",
   "execution_count": null,
   "id": "04c5c335-bbca-40c8-bec2-628f8864ad28",
   "metadata": {},
   "outputs": [],
   "source": [
    "bank1 = pd.get_dummies(bank1, columns = ['Geography'])"
   ]
  },
  {
   "cell_type": "code",
   "execution_count": null,
   "id": "35ec1d9b-0a33-48c5-9fa9-d3094119f5a6",
   "metadata": {},
   "outputs": [],
   "source": [
    "# Splite data into training and testing\n",
    "from sklearn import model_selection\n",
    "\n",
    "# #stratified sampling\n",
    "X_train, X_test, y_train, y_test = model_selection.train_test_split(X, y, test_size=0.25, stratify = y, random_state=1) "
   ]
  }
 ],
 "metadata": {
  "kernelspec": {
   "display_name": "Python 3 (ipykernel)",
   "language": "python",
   "name": "python3"
  },
  "language_info": {
   "codemirror_mode": {
    "name": "ipython",
    "version": 3
   },
   "file_extension": ".py",
   "mimetype": "text/x-python",
   "name": "python",
   "nbconvert_exporter": "python",
   "pygments_lexer": "ipython3",
   "version": "3.9.7"
  }
 },
 "nbformat": 4,
 "nbformat_minor": 5
}
